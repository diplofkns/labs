{
 "cells": [
  {
   "cell_type": "markdown",
   "metadata": {
    "id": "j47JY0uTYU52"
   },
   "source": [
    "## Variational Auto-Encoders\n"
   ]
  },
  {
   "cell_type": "code",
   "execution_count": null,
   "metadata": {
    "colab": {
     "base_uri": "https://localhost:8080/"
    },
    "executionInfo": {
     "elapsed": 28635,
     "status": "ok",
     "timestamp": 1703793723484,
     "user": {
      "displayName": "Marcelin Aïvar",
      "userId": "16196318743434407146"
     },
     "user_tz": -60
    },
    "id": "ow0Kh-EZYoPy",
    "outputId": "8c93cae1-9e3e-4ec6-a382-cabb7ed3f11a"
   },
   "outputs": [
    {
     "name": "stdout",
     "output_type": "stream",
     "text": [
      "Looking in indexes: https://download.pytorch.org/whl/cu118\n",
      "Requirement already satisfied: torch in /usr/local/lib/python3.10/dist-packages (2.1.0+cu121)\n",
      "Requirement already satisfied: torchvision in /usr/local/lib/python3.10/dist-packages (0.16.0+cu121)\n",
      "Requirement already satisfied: filelock in /usr/local/lib/python3.10/dist-packages (from torch) (3.13.1)\n",
      "Requirement already satisfied: typing-extensions in /usr/local/lib/python3.10/dist-packages (from torch) (4.5.0)\n",
      "Requirement already satisfied: sympy in /usr/local/lib/python3.10/dist-packages (from torch) (1.12)\n",
      "Requirement already satisfied: networkx in /usr/local/lib/python3.10/dist-packages (from torch) (3.2.1)\n",
      "Requirement already satisfied: jinja2 in /usr/local/lib/python3.10/dist-packages (from torch) (3.1.2)\n",
      "Requirement already satisfied: fsspec in /usr/local/lib/python3.10/dist-packages (from torch) (2023.6.0)\n",
      "Requirement already satisfied: triton==2.1.0 in /usr/local/lib/python3.10/dist-packages (from torch) (2.1.0)\n",
      "Requirement already satisfied: numpy in /usr/local/lib/python3.10/dist-packages (from torchvision) (1.23.5)\n",
      "Requirement already satisfied: requests in /usr/local/lib/python3.10/dist-packages (from torchvision) (2.31.0)\n",
      "Requirement already satisfied: pillow!=8.3.*,>=5.3.0 in /usr/local/lib/python3.10/dist-packages (from torchvision) (9.4.0)\n",
      "Requirement already satisfied: MarkupSafe>=2.0 in /usr/local/lib/python3.10/dist-packages (from jinja2->torch) (2.1.3)\n",
      "Requirement already satisfied: charset-normalizer<4,>=2 in /usr/local/lib/python3.10/dist-packages (from requests->torchvision) (3.3.2)\n",
      "Requirement already satisfied: idna<4,>=2.5 in /usr/local/lib/python3.10/dist-packages (from requests->torchvision) (3.6)\n",
      "Requirement already satisfied: urllib3<3,>=1.21.1 in /usr/local/lib/python3.10/dist-packages (from requests->torchvision) (2.0.7)\n",
      "Requirement already satisfied: certifi>=2017.4.17 in /usr/local/lib/python3.10/dist-packages (from requests->torchvision) (2023.11.17)\n",
      "Requirement already satisfied: mpmath>=0.19 in /usr/local/lib/python3.10/dist-packages (from sympy->torch) (1.3.0)\n",
      "Requirement already satisfied: tqdm in /usr/local/lib/python3.10/dist-packages (4.66.1)\n"
     ]
    }
   ],
   "source": [
    "import sys\n",
    "if 'google.colab' in sys.modules and 'torch' not in sys.modules:\n",
    "    !pip3 install torch torchvision --index-url https://download.pytorch.org/whl/cu118\n",
    "\n",
    "if 'google.colab' in sys.modules and 'tqdm' not in sys.modules:\n",
    "    !pip3 install tqdm\n",
    "\n",
    "\n",
    "%matplotlib inline\n",
    "import os\n",
    "from tqdm import tqdm\n",
    "\n",
    "import torch\n",
    "import torch.nn as nn\n",
    "import torch.nn.functional as F\n",
    "\n",
    "from matplotlib import pyplot as plt\n",
    "from matplotlib import gridspec"
   ]
  },
  {
   "cell_type": "markdown",
   "metadata": {
    "id": "z30nZkbuY9xX"
   },
   "source": [
    "Hyper-Parameters\n",
    "----------------"
   ]
  },
  {
   "cell_type": "code",
   "execution_count": 2,
   "metadata": {
    "executionInfo": {
     "elapsed": 8,
     "status": "ok",
     "timestamp": 1703793726676,
     "user": {
      "displayName": "Marcelin Aïvar",
      "userId": "16196318743434407146"
     },
     "user_tz": -60
    },
    "id": "9S2rVJ6pY_-8"
   },
   "outputs": [],
   "source": [
    "batch_size = 3000     # batch size\n",
    "latent_dim = 100      # latent-space dimension\n",
    "middle_dim = 128      # size of the middle layer\n",
    "learning_rate = 1e-3  # learning rate\n",
    "max_epochs = 50       # maximum number of epochs\n",
    "use_gpu = True        # using the GPU"
   ]
  },
  {
   "cell_type": "markdown",
   "metadata": {
    "id": "03u5OrHuZOcc"
   },
   "source": [
    "Loading the Dataset\n",
    "-------------------\n",
    "As in the GAN example, we will be using the MNIST dataset. MNIST images show digits from 0-9 in 28x28 grayscale images."
   ]
  },
  {
   "cell_type": "code",
   "execution_count": 3,
   "metadata": {
    "colab": {
     "base_uri": "https://localhost:8080/"
    },
    "executionInfo": {
     "elapsed": 4653,
     "status": "ok",
     "timestamp": 1703793735229,
     "user": {
      "displayName": "Marcelin Aïvar",
      "userId": "16196318743434407146"
     },
     "user_tz": -60
    },
    "id": "3EQOZ5ezZVx_",
    "outputId": "b834f646-f249-4837-8c52-118b8af772c7"
   },
   "outputs": [
    {
     "name": "stdout",
     "output_type": "stream",
     "text": [
      "Downloading http://yann.lecun.com/exdb/mnist/train-images-idx3-ubyte.gz\n",
      "Downloading http://yann.lecun.com/exdb/mnist/train-images-idx3-ubyte.gz to ./data/MNIST/MNIST/raw/train-images-idx3-ubyte.gz\n"
     ]
    },
    {
     "name": "stderr",
     "output_type": "stream",
     "text": [
      "100%|██████████| 9912422/9912422 [00:00<00:00, 94345946.41it/s]\n"
     ]
    },
    {
     "name": "stdout",
     "output_type": "stream",
     "text": [
      "Extracting ./data/MNIST/MNIST/raw/train-images-idx3-ubyte.gz to ./data/MNIST/MNIST/raw\n",
      "\n",
      "Downloading http://yann.lecun.com/exdb/mnist/train-labels-idx1-ubyte.gz\n",
      "Downloading http://yann.lecun.com/exdb/mnist/train-labels-idx1-ubyte.gz to ./data/MNIST/MNIST/raw/train-labels-idx1-ubyte.gz\n"
     ]
    },
    {
     "name": "stderr",
     "output_type": "stream",
     "text": [
      "100%|██████████| 28881/28881 [00:00<00:00, 101199410.05it/s]\n"
     ]
    },
    {
     "name": "stdout",
     "output_type": "stream",
     "text": [
      "Extracting ./data/MNIST/MNIST/raw/train-labels-idx1-ubyte.gz to ./data/MNIST/MNIST/raw\n",
      "\n",
      "Downloading http://yann.lecun.com/exdb/mnist/t10k-images-idx3-ubyte.gz\n",
      "Downloading http://yann.lecun.com/exdb/mnist/t10k-images-idx3-ubyte.gz to ./data/MNIST/MNIST/raw/t10k-images-idx3-ubyte.gz\n"
     ]
    },
    {
     "name": "stderr",
     "output_type": "stream",
     "text": [
      "100%|██████████| 1648877/1648877 [00:00<00:00, 36421089.37it/s]\n"
     ]
    },
    {
     "name": "stdout",
     "output_type": "stream",
     "text": [
      "Extracting ./data/MNIST/MNIST/raw/t10k-images-idx3-ubyte.gz to ./data/MNIST/MNIST/raw\n",
      "\n",
      "Downloading http://yann.lecun.com/exdb/mnist/t10k-labels-idx1-ubyte.gz\n",
      "Downloading http://yann.lecun.com/exdb/mnist/t10k-labels-idx1-ubyte.gz to ./data/MNIST/MNIST/raw/t10k-labels-idx1-ubyte.gz\n"
     ]
    },
    {
     "name": "stderr",
     "output_type": "stream",
     "text": [
      "100%|██████████| 4542/4542 [00:00<00:00, 21648328.15it/s]\n"
     ]
    },
    {
     "name": "stdout",
     "output_type": "stream",
     "text": [
      "Extracting ./data/MNIST/MNIST/raw/t10k-labels-idx1-ubyte.gz to ./data/MNIST/MNIST/raw\n",
      "\n"
     ]
    }
   ],
   "source": [
    "import torchvision.transforms as transforms\n",
    "from torch.utils.data import DataLoader\n",
    "from torchvision.datasets import MNIST\n",
    "\n",
    "img_transform = transforms.ToTensor()\n",
    "\n",
    "train_dataset = MNIST(root='./data/MNIST', download=True, train=True, transform=img_transform)\n",
    "train_dataloader = DataLoader(train_dataset, batch_size=batch_size, shuffle=True)\n",
    "\n",
    "test_dataset = MNIST(root='./data/MNIST', download=True, train=False, transform=img_transform)\n",
    "test_dataloader = DataLoader(test_dataset, batch_size=batch_size, shuffle=True)\n",
    "\n",
    "# image dimensions\n",
    "input_dim = 28**2"
   ]
  },
  {
   "cell_type": "markdown",
   "metadata": {
    "id": "5FvcF7AokK0u"
   },
   "source": [
    "VAE Definition\n",
    "--------------\n",
    "We will now use a specific scheme to initialize our weights, called Xavier initialization. You can neglect this if you are using other layers than fully connected."
   ]
  },
  {
   "cell_type": "code",
   "execution_count": 4,
   "metadata": {
    "executionInfo": {
     "elapsed": 241,
     "status": "ok",
     "timestamp": 1703793766302,
     "user": {
      "displayName": "Marcelin Aïvar",
      "userId": "16196318743434407146"
     },
     "user_tz": -60
    },
    "id": "gx_J05EVkV-f"
   },
   "outputs": [],
   "source": [
    "def init_weights(m):\n",
    "    if isinstance(m, nn.Linear):\n",
    "        nn.init.xavier_uniform_(m.weight)\n",
    "        m.bias.data.fill_(0.01)"
   ]
  },
  {
   "cell_type": "markdown",
   "metadata": {
    "id": "4Yu8y7QSamnH"
   },
   "source": [
    "The following model represents the distribution encoder distribution q(z|x), together with the reparametrization trick."
   ]
  },
  {
   "cell_type": "code",
   "execution_count": 5,
   "metadata": {
    "executionInfo": {
     "elapsed": 2,
     "status": "ok",
     "timestamp": 1703793767051,
     "user": {
      "displayName": "Marcelin Aïvar",
      "userId": "16196318743434407146"
     },
     "user_tz": -60
    },
    "id": "_srXzGaBbGGF"
   },
   "outputs": [],
   "source": [
    "class Q(nn.Module):\n",
    "  def __init__(self, input_dim, middle_dim, latent_dim):\n",
    "    super(Q, self).__init__()\n",
    "    self.lin_middle = nn.Linear(input_dim, middle_dim, bias=True)\n",
    "    self.lin_mu = nn.Linear(middle_dim, latent_dim, bias=True)\n",
    "    self.lin_var = nn.Linear(middle_dim, latent_dim, bias=True)\n",
    "\n",
    "    # Xavier initialization (to be neglected if using other than fully-connected)\n",
    "    init_weights(self.lin_middle)\n",
    "    init_weights(self.lin_mu)\n",
    "    init_weights(self.lin_var)\n",
    "\n",
    "  def forward(self, input):\n",
    "    # forward\n",
    "    middle = F.relu(self.lin_middle(input))\n",
    "    z_mu = self.lin_mu(middle)\n",
    "    z_var = self.lin_var(middle)\n",
    "    return z_mu, z_var"
   ]
  },
  {
   "cell_type": "markdown",
   "metadata": {
    "id": "2ADB4kdenMzu"
   },
   "source": [
    "We now model the reparametrization trick."
   ]
  },
  {
   "cell_type": "code",
   "execution_count": 6,
   "metadata": {
    "executionInfo": {
     "elapsed": 249,
     "status": "ok",
     "timestamp": 1703793773266,
     "user": {
      "displayName": "Marcelin Aïvar",
      "userId": "16196318743434407146"
     },
     "user_tz": -60
    },
    "id": "ySUxXvDQnRSl"
   },
   "outputs": [],
   "source": [
    "class Reparametrization(nn.Module):\n",
    "  def __init__(self):\n",
    "    super(Reparametrization, self).__init__()\n",
    "\n",
    "  def forward(self, z_mu, z_var):\n",
    "    eps = torch.randn(z_var.size(0), z_var.size(1), device=device) # sample on a unit Gaussian\n",
    "    return z_mu + torch.exp(z_var/2) * eps"
   ]
  },
  {
   "cell_type": "markdown",
   "metadata": {
    "id": "R6g8SKTFgHzT"
   },
   "source": [
    "The following model represents the decoder P(x|z)."
   ]
  },
  {
   "cell_type": "code",
   "execution_count": 7,
   "metadata": {
    "executionInfo": {
     "elapsed": 233,
     "status": "ok",
     "timestamp": 1703793780770,
     "user": {
      "displayName": "Marcelin Aïvar",
      "userId": "16196318743434407146"
     },
     "user_tz": -60
    },
    "id": "SOJqtQJAgplb"
   },
   "outputs": [],
   "source": [
    "class P(nn.Module):\n",
    "  def __init__(self, input_dim, middle_dim, latent_dim):\n",
    "    super(P, self).__init__()\n",
    "    self.lin_latent = nn.Linear(latent_dim, middle_dim, bias=True)\n",
    "    self.lin_middle = nn.Linear(middle_dim, input_dim, bias=True)\n",
    "\n",
    "    # Xavier initialization (to be neglected if using other than fully-connected)\n",
    "    init_weights(self.lin_latent)\n",
    "    init_weights(self.lin_middle)\n",
    "\n",
    "  def forward(self, latent):\n",
    "    middle = F.relu(self.lin_latent(latent))\n",
    "    return F.sigmoid(self.lin_middle(middle))"
   ]
  },
  {
   "cell_type": "markdown",
   "metadata": {
    "id": "v11VMJUuh6UA"
   },
   "source": [
    "Training\n",
    "--------\n",
    "\n",
    "We first initialize an instance of the model and load it onto GPU if relevant."
   ]
  },
  {
   "cell_type": "code",
   "execution_count": 8,
   "metadata": {
    "colab": {
     "base_uri": "https://localhost:8080/"
    },
    "executionInfo": {
     "elapsed": 546,
     "status": "ok",
     "timestamp": 1703793786361,
     "user": {
      "displayName": "Marcelin Aïvar",
      "userId": "16196318743434407146"
     },
     "user_tz": -60
    },
    "id": "fgl4ZXgdiA4R",
    "outputId": "3d8300a2-5990-4a77-ffa8-f234eaf9cd66"
   },
   "outputs": [
    {
     "name": "stdout",
     "output_type": "stream",
     "text": [
      "Using the GPU (faster).\n",
      "Number of parameters for encoder: 114064 and decoder: 126280\n"
     ]
    }
   ],
   "source": [
    "# creating instances of the model\n",
    "p = P(input_dim, middle_dim, latent_dim)\n",
    "q = Q(input_dim, middle_dim, latent_dim)\n",
    "reparam = Reparametrization()\n",
    "\n",
    "# loading them onto the GPU if relevant\n",
    "if use_gpu and torch.cuda.is_available():\n",
    "  device = torch.device(\"cuda:0\")\n",
    "  print(\"Using the GPU (faster).\")\n",
    "else:\n",
    "  device = torch.device(\"cpu\")\n",
    "  print(\"Using the CPU.\")\n",
    "\n",
    "q = q.to(device)\n",
    "p = p.to(device)\n",
    "reparam = reparam.to(device)\n",
    "\n",
    "# computing the number of parameters\n",
    "num_params_gen = sum(param.numel() for param in p.parameters() if param.requires_grad)\n",
    "num_params_disc = sum(param.numel() for param in q.parameters() if param.requires_grad)\n",
    "print('Number of parameters for encoder: %d and decoder: %d' % (num_params_gen, num_params_disc))"
   ]
  },
  {
   "cell_type": "markdown",
   "metadata": {
    "id": "B9zxficBiEvN"
   },
   "source": [
    "We can now do the training properly speaking."
   ]
  },
  {
   "cell_type": "code",
   "execution_count": 12,
   "metadata": {
    "colab": {
     "base_uri": "https://localhost:8080/",
     "height": 1000
    },
    "executionInfo": {
     "elapsed": 330725,
     "status": "ok",
     "timestamp": 1703794264419,
     "user": {
      "displayName": "Marcelin Aïvar",
      "userId": "16196318743434407146"
     },
     "user_tz": -60
    },
    "id": "XF8fk1rUiGZf",
    "outputId": "e6b16000-e23c-44fa-939d-bb54042c40cf"
   },
   "outputs": [
    {
     "name": "stderr",
     "output_type": "stream",
     "text": [
      "/usr/local/lib/python3.10/dist-packages/torch/nn/_reduction.py:42: UserWarning: size_average and reduce args will be deprecated, please use reduction='sum' instead.\n",
      "  warnings.warn(warning.format(ret))\n"
     ]
    },
    {
     "name": "stdout",
     "output_type": "stream",
     "text": [
      "Training...\n"
     ]
    },
    {
     "name": "stderr",
     "output_type": "stream",
     "text": [
      "Epoch 0: 100%|██████████| 20/20 [00:06<00:00,  2.93it/s]\n"
     ]
    },
    {
     "name": "stdout",
     "output_type": "stream",
     "text": [
      "\t[Losses] Total 1.37 - Recon. 1.28 - KL 0.0833\n"
     ]
    },
    {
     "name": "stderr",
     "output_type": "stream",
     "text": [
      "Epoch 1: 100%|██████████| 20/20 [00:06<00:00,  3.33it/s]\n"
     ]
    },
    {
     "name": "stdout",
     "output_type": "stream",
     "text": [
      "\t[Losses] Total 1.25 - Recon. 1.15 - KL 0.0996\n"
     ]
    },
    {
     "name": "stderr",
     "output_type": "stream",
     "text": [
      "Epoch 2: 100%|██████████| 20/20 [00:06<00:00,  2.93it/s]\n"
     ]
    },
    {
     "name": "stdout",
     "output_type": "stream",
     "text": [
      "\t[Losses] Total 1.17 - Recon. 1.06 - KL 0.112\n"
     ]
    },
    {
     "name": "stderr",
     "output_type": "stream",
     "text": [
      "Epoch 3: 100%|██████████| 20/20 [00:06<00:00,  3.25it/s]\n"
     ]
    },
    {
     "name": "stdout",
     "output_type": "stream",
     "text": [
      "\t[Losses] Total 1.13 - Recon. 1.01 - KL 0.115\n"
     ]
    },
    {
     "name": "stderr",
     "output_type": "stream",
     "text": [
      "Epoch 4: 100%|██████████| 20/20 [00:06<00:00,  2.95it/s]\n"
     ]
    },
    {
     "name": "stdout",
     "output_type": "stream",
     "text": [
      "\t[Losses] Total 1.09 - Recon. 0.973 - KL 0.117\n"
     ]
    },
    {
     "name": "stderr",
     "output_type": "stream",
     "text": [
      "Epoch 5: 100%|██████████| 20/20 [00:05<00:00,  3.37it/s]\n"
     ]
    },
    {
     "name": "stdout",
     "output_type": "stream",
     "text": [
      "\t[Losses] Total 1.06 - Recon. 0.944 - KL 0.12\n"
     ]
    },
    {
     "name": "stderr",
     "output_type": "stream",
     "text": [
      "Epoch 6: 100%|██████████| 20/20 [00:06<00:00,  3.02it/s]\n"
     ]
    },
    {
     "name": "stdout",
     "output_type": "stream",
     "text": [
      "\t[Losses] Total 1.04 - Recon. 0.92 - KL 0.124\n"
     ]
    },
    {
     "name": "stderr",
     "output_type": "stream",
     "text": [
      "Epoch 7: 100%|██████████| 20/20 [00:05<00:00,  3.44it/s]\n"
     ]
    },
    {
     "name": "stdout",
     "output_type": "stream",
     "text": [
      "\t[Losses] Total 1.02 - Recon. 0.895 - KL 0.128\n"
     ]
    },
    {
     "name": "stderr",
     "output_type": "stream",
     "text": [
      "Epoch 8: 100%|██████████| 20/20 [00:07<00:00,  2.56it/s]\n"
     ]
    },
    {
     "name": "stdout",
     "output_type": "stream",
     "text": [
      "\t[Losses] Total 1.01 - Recon. 0.876 - KL 0.131\n"
     ]
    },
    {
     "name": "stderr",
     "output_type": "stream",
     "text": [
      "Epoch 9: 100%|██████████| 20/20 [00:05<00:00,  3.35it/s]\n"
     ]
    },
    {
     "name": "stdout",
     "output_type": "stream",
     "text": [
      "\t[Losses] Total 0.992 - Recon. 0.858 - KL 0.135\n"
     ]
    },
    {
     "name": "stderr",
     "output_type": "stream",
     "text": [
      "Epoch 10: 100%|██████████| 20/20 [00:06<00:00,  2.96it/s]\n"
     ]
    },
    {
     "name": "stdout",
     "output_type": "stream",
     "text": [
      "\t[Losses] Total 0.982 - Recon. 0.844 - KL 0.138\n"
     ]
    },
    {
     "name": "stderr",
     "output_type": "stream",
     "text": [
      "Epoch 11: 100%|██████████| 20/20 [00:05<00:00,  3.34it/s]\n"
     ]
    },
    {
     "name": "stdout",
     "output_type": "stream",
     "text": [
      "\t[Losses] Total 0.972 - Recon. 0.831 - KL 0.141\n"
     ]
    },
    {
     "name": "stderr",
     "output_type": "stream",
     "text": [
      "Epoch 12: 100%|██████████| 20/20 [00:06<00:00,  2.96it/s]\n"
     ]
    },
    {
     "name": "stdout",
     "output_type": "stream",
     "text": [
      "\t[Losses] Total 0.963 - Recon. 0.82 - KL 0.143\n"
     ]
    },
    {
     "name": "stderr",
     "output_type": "stream",
     "text": [
      "Epoch 13: 100%|██████████| 20/20 [00:06<00:00,  3.22it/s]\n"
     ]
    },
    {
     "name": "stdout",
     "output_type": "stream",
     "text": [
      "\t[Losses] Total 0.956 - Recon. 0.811 - KL 0.145\n"
     ]
    },
    {
     "name": "stderr",
     "output_type": "stream",
     "text": [
      "Epoch 14: 100%|██████████| 20/20 [00:06<00:00,  3.00it/s]\n"
     ]
    },
    {
     "name": "stdout",
     "output_type": "stream",
     "text": [
      "\t[Losses] Total 0.95 - Recon. 0.802 - KL 0.148\n"
     ]
    },
    {
     "name": "stderr",
     "output_type": "stream",
     "text": [
      "Epoch 15: 100%|██████████| 20/20 [00:06<00:00,  3.06it/s]\n"
     ]
    },
    {
     "name": "stdout",
     "output_type": "stream",
     "text": [
      "\t[Losses] Total 0.944 - Recon. 0.794 - KL 0.15\n"
     ]
    },
    {
     "name": "stderr",
     "output_type": "stream",
     "text": [
      "Epoch 16: 100%|██████████| 20/20 [00:06<00:00,  3.22it/s]\n"
     ]
    },
    {
     "name": "stdout",
     "output_type": "stream",
     "text": [
      "\t[Losses] Total 0.937 - Recon. 0.786 - KL 0.151\n"
     ]
    },
    {
     "name": "stderr",
     "output_type": "stream",
     "text": [
      "Epoch 17: 100%|██████████| 20/20 [00:06<00:00,  3.08it/s]\n"
     ]
    },
    {
     "name": "stdout",
     "output_type": "stream",
     "text": [
      "\t[Losses] Total 0.935 - Recon. 0.782 - KL 0.153\n"
     ]
    },
    {
     "name": "stderr",
     "output_type": "stream",
     "text": [
      "Epoch 18: 100%|██████████| 20/20 [00:06<00:00,  3.18it/s]\n"
     ]
    },
    {
     "name": "stdout",
     "output_type": "stream",
     "text": [
      "\t[Losses] Total 0.928 - Recon. 0.774 - KL 0.154\n"
     ]
    },
    {
     "name": "stderr",
     "output_type": "stream",
     "text": [
      "Epoch 19: 100%|██████████| 20/20 [00:06<00:00,  2.92it/s]\n"
     ]
    },
    {
     "name": "stdout",
     "output_type": "stream",
     "text": [
      "\t[Losses] Total 0.923 - Recon. 0.767 - KL 0.156\n"
     ]
    },
    {
     "name": "stderr",
     "output_type": "stream",
     "text": [
      "Epoch 20: 100%|██████████| 20/20 [00:05<00:00,  3.42it/s]\n"
     ]
    },
    {
     "name": "stdout",
     "output_type": "stream",
     "text": [
      "\t[Losses] Total 0.918 - Recon. 0.761 - KL 0.157\n"
     ]
    },
    {
     "name": "stderr",
     "output_type": "stream",
     "text": [
      "Epoch 21: 100%|██████████| 20/20 [00:07<00:00,  2.78it/s]\n"
     ]
    },
    {
     "name": "stdout",
     "output_type": "stream",
     "text": [
      "\t[Losses] Total 0.913 - Recon. 0.754 - KL 0.159\n"
     ]
    },
    {
     "name": "stderr",
     "output_type": "stream",
     "text": [
      "Epoch 22: 100%|██████████| 20/20 [00:05<00:00,  3.40it/s]\n"
     ]
    },
    {
     "name": "stdout",
     "output_type": "stream",
     "text": [
      "\t[Losses] Total 0.909 - Recon. 0.748 - KL 0.16\n"
     ]
    },
    {
     "name": "stderr",
     "output_type": "stream",
     "text": [
      "Epoch 23: 100%|██████████| 20/20 [00:06<00:00,  2.91it/s]\n"
     ]
    },
    {
     "name": "stdout",
     "output_type": "stream",
     "text": [
      "\t[Losses] Total 0.906 - Recon. 0.745 - KL 0.161\n"
     ]
    },
    {
     "name": "stderr",
     "output_type": "stream",
     "text": [
      "Epoch 24: 100%|██████████| 20/20 [00:05<00:00,  3.40it/s]\n"
     ]
    },
    {
     "name": "stdout",
     "output_type": "stream",
     "text": [
      "\t[Losses] Total 0.902 - Recon. 0.739 - KL 0.163\n"
     ]
    },
    {
     "name": "stderr",
     "output_type": "stream",
     "text": [
      "Epoch 25: 100%|██████████| 20/20 [00:06<00:00,  3.00it/s]\n"
     ]
    },
    {
     "name": "stdout",
     "output_type": "stream",
     "text": [
      "\t[Losses] Total 0.894 - Recon. 0.731 - KL 0.163\n"
     ]
    },
    {
     "name": "stderr",
     "output_type": "stream",
     "text": [
      "Epoch 26: 100%|██████████| 20/20 [00:06<00:00,  3.26it/s]\n"
     ]
    },
    {
     "name": "stdout",
     "output_type": "stream",
     "text": [
      "\t[Losses] Total 0.894 - Recon. 0.729 - KL 0.165\n"
     ]
    },
    {
     "name": "stderr",
     "output_type": "stream",
     "text": [
      "Epoch 27: 100%|██████████| 20/20 [00:06<00:00,  2.99it/s]\n"
     ]
    },
    {
     "name": "stdout",
     "output_type": "stream",
     "text": [
      "\t[Losses] Total 0.889 - Recon. 0.723 - KL 0.166\n"
     ]
    },
    {
     "name": "stderr",
     "output_type": "stream",
     "text": [
      "Epoch 28: 100%|██████████| 20/20 [00:06<00:00,  3.29it/s]\n"
     ]
    },
    {
     "name": "stdout",
     "output_type": "stream",
     "text": [
      "\t[Losses] Total 0.886 - Recon. 0.719 - KL 0.167\n"
     ]
    },
    {
     "name": "stderr",
     "output_type": "stream",
     "text": [
      "Epoch 29: 100%|██████████| 20/20 [00:06<00:00,  3.02it/s]\n"
     ]
    },
    {
     "name": "stdout",
     "output_type": "stream",
     "text": [
      "\t[Losses] Total 0.879 - Recon. 0.712 - KL 0.167\n"
     ]
    },
    {
     "name": "stderr",
     "output_type": "stream",
     "text": [
      "Epoch 30: 100%|██████████| 20/20 [00:06<00:00,  3.24it/s]\n"
     ]
    },
    {
     "name": "stdout",
     "output_type": "stream",
     "text": [
      "\t[Losses] Total 0.878 - Recon. 0.709 - KL 0.168\n"
     ]
    },
    {
     "name": "stderr",
     "output_type": "stream",
     "text": [
      "Epoch 31: 100%|██████████| 20/20 [00:06<00:00,  2.99it/s]\n"
     ]
    },
    {
     "name": "stdout",
     "output_type": "stream",
     "text": [
      "\t[Losses] Total 0.873 - Recon. 0.704 - KL 0.169\n"
     ]
    },
    {
     "name": "stderr",
     "output_type": "stream",
     "text": [
      "Epoch 32: 100%|██████████| 20/20 [00:06<00:00,  3.27it/s]\n"
     ]
    },
    {
     "name": "stdout",
     "output_type": "stream",
     "text": [
      "\t[Losses] Total 0.87 - Recon. 0.7 - KL 0.17\n"
     ]
    },
    {
     "name": "stderr",
     "output_type": "stream",
     "text": [
      "Epoch 33: 100%|██████████| 20/20 [00:06<00:00,  3.00it/s]\n"
     ]
    },
    {
     "name": "stdout",
     "output_type": "stream",
     "text": [
      "\t[Losses] Total 0.865 - Recon. 0.695 - KL 0.17\n"
     ]
    },
    {
     "name": "stderr",
     "output_type": "stream",
     "text": [
      "Epoch 34: 100%|██████████| 20/20 [00:06<00:00,  3.23it/s]\n"
     ]
    },
    {
     "name": "stdout",
     "output_type": "stream",
     "text": [
      "\t[Losses] Total 0.863 - Recon. 0.693 - KL 0.171\n"
     ]
    },
    {
     "name": "stderr",
     "output_type": "stream",
     "text": [
      "Epoch 35: 100%|██████████| 20/20 [00:06<00:00,  3.02it/s]\n"
     ]
    },
    {
     "name": "stdout",
     "output_type": "stream",
     "text": [
      "\t[Losses] Total 0.86 - Recon. 0.689 - KL 0.171\n"
     ]
    },
    {
     "name": "stderr",
     "output_type": "stream",
     "text": [
      "Epoch 36: 100%|██████████| 20/20 [00:05<00:00,  3.37it/s]\n"
     ]
    },
    {
     "name": "stdout",
     "output_type": "stream",
     "text": [
      "\t[Losses] Total 0.853 - Recon. 0.682 - KL 0.171\n"
     ]
    },
    {
     "name": "stderr",
     "output_type": "stream",
     "text": [
      "Epoch 37: 100%|██████████| 20/20 [00:06<00:00,  3.21it/s]\n"
     ]
    },
    {
     "name": "stdout",
     "output_type": "stream",
     "text": [
      "\t[Losses] Total 0.853 - Recon. 0.682 - KL 0.172\n"
     ]
    },
    {
     "name": "stderr",
     "output_type": "stream",
     "text": [
      "Epoch 38: 100%|██████████| 20/20 [00:06<00:00,  3.33it/s]\n"
     ]
    },
    {
     "name": "stdout",
     "output_type": "stream",
     "text": [
      "\t[Losses] Total 0.847 - Recon. 0.675 - KL 0.172\n"
     ]
    },
    {
     "name": "stderr",
     "output_type": "stream",
     "text": [
      "Epoch 39: 100%|██████████| 20/20 [00:06<00:00,  2.98it/s]\n"
     ]
    },
    {
     "name": "stdout",
     "output_type": "stream",
     "text": [
      "\t[Losses] Total 0.845 - Recon. 0.673 - KL 0.172\n"
     ]
    },
    {
     "name": "stderr",
     "output_type": "stream",
     "text": [
      "Epoch 40: 100%|██████████| 20/20 [00:06<00:00,  3.16it/s]\n"
     ]
    },
    {
     "name": "stdout",
     "output_type": "stream",
     "text": [
      "\t[Losses] Total 0.843 - Recon. 0.671 - KL 0.172\n"
     ]
    },
    {
     "name": "stderr",
     "output_type": "stream",
     "text": [
      "Epoch 41: 100%|██████████| 20/20 [00:06<00:00,  3.08it/s]\n"
     ]
    },
    {
     "name": "stdout",
     "output_type": "stream",
     "text": [
      "\t[Losses] Total 0.837 - Recon. 0.665 - KL 0.172\n"
     ]
    },
    {
     "name": "stderr",
     "output_type": "stream",
     "text": [
      "Epoch 42: 100%|██████████| 20/20 [00:06<00:00,  3.15it/s]\n"
     ]
    },
    {
     "name": "stdout",
     "output_type": "stream",
     "text": [
      "\t[Losses] Total 0.833 - Recon. 0.661 - KL 0.172\n"
     ]
    },
    {
     "name": "stderr",
     "output_type": "stream",
     "text": [
      "Epoch 43: 100%|██████████| 20/20 [00:05<00:00,  3.35it/s]\n"
     ]
    },
    {
     "name": "stdout",
     "output_type": "stream",
     "text": [
      "\t[Losses] Total 0.832 - Recon. 0.66 - KL 0.172\n"
     ]
    },
    {
     "name": "stderr",
     "output_type": "stream",
     "text": [
      "Epoch 44: 100%|██████████| 20/20 [00:06<00:00,  2.91it/s]\n"
     ]
    },
    {
     "name": "stdout",
     "output_type": "stream",
     "text": [
      "\t[Losses] Total 0.827 - Recon. 0.655 - KL 0.173\n"
     ]
    },
    {
     "name": "stderr",
     "output_type": "stream",
     "text": [
      "Epoch 45: 100%|██████████| 20/20 [00:05<00:00,  3.39it/s]\n"
     ]
    },
    {
     "name": "stdout",
     "output_type": "stream",
     "text": [
      "\t[Losses] Total 0.826 - Recon. 0.653 - KL 0.173\n"
     ]
    },
    {
     "name": "stderr",
     "output_type": "stream",
     "text": [
      "Epoch 46: 100%|██████████| 20/20 [00:06<00:00,  2.89it/s]\n"
     ]
    },
    {
     "name": "stdout",
     "output_type": "stream",
     "text": [
      "\t[Losses] Total 0.822 - Recon. 0.65 - KL 0.172\n"
     ]
    },
    {
     "name": "stderr",
     "output_type": "stream",
     "text": [
      "Epoch 47: 100%|██████████| 20/20 [00:05<00:00,  3.46it/s]\n"
     ]
    },
    {
     "name": "stdout",
     "output_type": "stream",
     "text": [
      "\t[Losses] Total 0.818 - Recon. 0.645 - KL 0.173\n"
     ]
    },
    {
     "name": "stderr",
     "output_type": "stream",
     "text": [
      "Epoch 48: 100%|██████████| 20/20 [00:06<00:00,  3.06it/s]\n"
     ]
    },
    {
     "name": "stdout",
     "output_type": "stream",
     "text": [
      "\t[Losses] Total 0.817 - Recon. 0.645 - KL 0.173\n"
     ]
    },
    {
     "name": "stderr",
     "output_type": "stream",
     "text": [
      "Epoch 49: 100%|██████████| 20/20 [00:05<00:00,  3.39it/s]"
     ]
    },
    {
     "name": "stdout",
     "output_type": "stream",
     "text": [
      "\t[Losses] Total 0.813 - Recon. 0.641 - KL 0.173\n",
      "Done.\n"
     ]
    },
    {
     "name": "stderr",
     "output_type": "stream",
     "text": [
      "\n"
     ]
    },
    {
     "data": {
      "image/png": "[encoded data removed]",
      "text/plain": [
       "<Figure size 400x400 with 16 Axes>"
      ]
     },
     "metadata": {},
     "output_type": "display_data"
    }
   ],
   "source": [
    "p.train()\n",
    "q.train()\n",
    "reparam.train()\n",
    "\n",
    "parameters = list(p.parameters()) + list(q.parameters())\n",
    "optim = torch.optim.Adam(parameters, lr=learning_rate, betas=(0.5, 0.999))\n",
    "bce = nn.BCELoss(size_average=False, reduction='mean')\n",
    "\n",
    "total_losses = []\n",
    "recon_losses = []\n",
    "kl_losses = []\n",
    "current_image = 0\n",
    "\n",
    "print('Training...')\n",
    "for epoch in range(max_epochs):\n",
    "\n",
    "  avg_total_loss = 0\n",
    "  avg_recon_loss = 0\n",
    "  avg_kl_loss = 0\n",
    "\n",
    "  for _, (batch, _) in enumerate(tqdm(train_dataloader, desc=f\"Epoch {epoch}\")):\n",
    "    batch = batch.to(device) # load the data onto GPU is relevant\n",
    "    batch = batch.view(batch_size, -1)\n",
    "\n",
    "    # forward\n",
    "    z_mu, z_var = q(batch)\n",
    "    z = reparam(z_mu, z_var)\n",
    "    batch_recon = p(z)\n",
    "\n",
    "    # reconstruction loss E[log P(X|z)]\n",
    "    recon_loss = bce(batch_recon, batch) / len(batch)\n",
    "    # distribution loss D_KL(Q(z|X) || P(z))\n",
    "    kl_loss = torch.mean(0.5 * torch.sum(torch.exp(z_var) + z_mu ** 2 - 1. - z_var, 1))\n",
    "    # Total loss\n",
    "    total_loss = recon_loss + kl_loss\n",
    "\n",
    "    # backward\n",
    "    total_loss.backward()\n",
    "\n",
    "    # update\n",
    "    optim.step()\n",
    "\n",
    "    # housekeeping\n",
    "    optim.zero_grad()\n",
    "    avg_total_loss += total_loss / len(batch)\n",
    "    avg_recon_loss += recon_loss / len(batch)\n",
    "    avg_kl_loss += kl_loss / len(batch)\n",
    "\n",
    "  # end of epoch\n",
    "  total_losses.append(avg_total_loss.item())\n",
    "  recon_losses.append(avg_recon_loss.item())\n",
    "  kl_losses.append(avg_kl_loss.item())\n",
    "  print(f\"\\t[Losses] Total {total_losses[-1]:.3} - Recon. {recon_losses[-1]:.3} - KL {kl_losses[-1]:.3}\")\n",
    "\n",
    "  # plot\n",
    "  if epoch % 2 == 0:\n",
    "        samples = p(z).data.cpu().numpy()[:16]\n",
    "\n",
    "        plt.close()\n",
    "        fig = plt.figure(figsize=(4, 4))\n",
    "        gs = gridspec.GridSpec(4, 4)\n",
    "        gs.update(wspace=0.05, hspace=0.05)\n",
    "\n",
    "        for i, sample in enumerate(samples):\n",
    "            ax = plt.subplot(gs[i])\n",
    "            plt.axis('off')\n",
    "            ax.set_xticklabels([])\n",
    "            ax.set_yticklabels([])\n",
    "            ax.set_aspect('equal')\n",
    "            plt.imshow(sample.reshape(28, 28), cmap='Greys_r')\n",
    "\n",
    "        if not os.path.exists('training/') and not os.path.exists('out/'):\n",
    "            os.makedirs('out/')\n",
    "        # plt.show()\n",
    "        # plt.pause(0.1)\n",
    "        # plt.savefig('training/{}_{}.png'.format(epoch, str(current_image).zfill(3)), bbox_inches='tight')\n",
    "        current_image += 1\n",
    "        # plt.close(fig)\n",
    "\n",
    "print(\"Done.\")"
   ]
  },
  {
   "cell_type": "markdown",
   "metadata": {
    "id": "XziiVXMR0eFY"
   },
   "source": [
    "We can now plot the training curves."
   ]
  },
  {
   "cell_type": "code",
   "execution_count": 10,
   "metadata": {
    "colab": {
     "base_uri": "https://localhost:8080/",
     "height": 449
    },
    "executionInfo": {
     "elapsed": 570,
     "status": "ok",
     "timestamp": 1703793812376,
     "user": {
      "displayName": "Marcelin Aïvar",
      "userId": "16196318743434407146"
     },
     "user_tz": -60
    },
    "id": "8Vz0u26a0g8j",
    "outputId": "d3c67637-97c6-4295-d209-0b122ed7f977"
   },
   "outputs": [
    {
     "data": {
      "image/png": "[encoded data removed]",
      "text/plain": [
       "<Figure size 640x480 with 1 Axes>"
      ]
     },
     "metadata": {},
     "output_type": "display_data"
    }
   ],
   "source": [
    "plt.ion()\n",
    "\n",
    "fig = plt.figure()\n",
    "plt.semilogy(total_losses, label='Total')\n",
    "plt.semilogy(recon_losses, label='Reconstruction')\n",
    "plt.semilogy(kl_losses, label='Kullback-Leibler')\n",
    "plt.xlabel('Epochs')\n",
    "plt.ylabel('Loss')\n",
    "plt.legend()\n",
    "plt.show()"
   ]
  },
  {
   "cell_type": "markdown",
   "metadata": {
    "id": "z8rKdm-oiHT1"
   },
   "source": [
    "Generation\n",
    "----------"
   ]
  },
  {
   "cell_type": "code",
   "execution_count": null,
   "metadata": {
    "id": "oMMSrcl1iMW-"
   },
   "outputs": [],
   "source": [
    "import numpy as np\n",
    "import matplotlib.pyplot as plt\n",
    "plt.ion()\n",
    "\n",
    "import torchvision.utils\n",
    "\n",
    "p.eval()\n",
    "n = 8\n",
    "\n",
    "def show_image(img):\n",
    "    npimg = img.numpy()\n",
    "    plt.imshow(np.transpose(npimg, (1, 2, 0)))\n",
    "\n",
    "def correct_shape(imgs):\n",
    "  return imgs.view(n**2, 28, 28).unsqueeze(1)\n",
    "\n",
    "with torch.no_grad():\n",
    "    # sample latent vectors from the standard normal distribution\n",
    "    latent = torch.randn((n**2, latent_dim), device=device)\n",
    "    fake_image_batch = p(latent)\n",
    "    fake_image_batch = correct_shape(fake_image_batch)\n",
    "    fake_image_batch = fake_image_batch.cpu()\n",
    "\n",
    "\n",
    "    fig, ax = plt.subplots(figsize=(10, 10))\n",
    "    show_image(torchvision.utils.make_grid(fake_image_batch.data,nrow=n))\n",
    "    plt.axis('off')\n",
    "    plt.show()"
   ]
  },
  {
   "cell_type": "markdown",
   "metadata": {
    "id": "gtkLm1mZiMss"
   },
   "source": [
    "Visualization in Latent Space\n",
    "-----------------------------"
   ]
  },
  {
   "cell_type": "code",
   "execution_count": null,
   "metadata": {
    "id": "dNLu3oNniQiu"
   },
   "outputs": [],
   "source": [
    "import numpy as np\n",
    "import matplotlib.pyplot as plt\n",
    "plt.ion()\n",
    "\n",
    "import torchvision.utils\n",
    "\n",
    "p.eval()\n",
    "\n",
    "def correct_shape(imgs):\n",
    "  return imgs.view(-1, 28, 28).unsqueeze(1)\n",
    "\n",
    "def interpolation(lambda1, model, latent_1, latent_2):\n",
    "\n",
    "    with torch.no_grad():\n",
    "\n",
    "        # interpolation of the two latent vectors\n",
    "        inter_latent = lambda1* latent_1 + (1- lambda1) * latent_2\n",
    "\n",
    "        # reconstruct interpolated image\n",
    "        inter_latent = inter_latent.to(device)\n",
    "        inter_image = model(inter_latent)\n",
    "        inter_image = inter_image.cpu()\n",
    "\n",
    "        return inter_image\n",
    "\n",
    "# sample two latent vectors from the standard normal distribution\n",
    "latent_1 = torch.randn((1, latent_dim), device=device)\n",
    "latent_2 = torch.randn((1, latent_dim), device=device)\n",
    "\n",
    "# interpolation lambdas\n",
    "lambda_range=np.linspace(0,1,5)\n",
    "\n",
    "fig, axs = plt.subplots(1,5, figsize=(15, 3))\n",
    "fig.subplots_adjust(wspace=.1)\n",
    "axs = axs.ravel()\n",
    "\n",
    "for ind,l in enumerate(lambda_range):\n",
    "    inter_image=interpolation(float(l), p, latent_1, latent_2)\n",
    "\n",
    "    inter_image = correct_shape(inter_image)\n",
    "\n",
    "    image = inter_image.numpy()\n",
    "\n",
    "    axs[ind].imshow(image[0,0,:,:], cmap='gray')\n",
    "    axs[ind].set_title('$\\lambda$='+str(round(l,1)))\n",
    "    axs[ind].axis('off')\n",
    "plt.show()"
   ]
  }
 ],
 "metadata": {
  "accelerator": "GPU",
  "colab": {
   "gpuType": "T4",
   "provenance": []
  },
  "kernelspec": {
   "display_name": "Python 3",
   "name": "python3"
  },
  "language_info": {
   "name": "python"
  }
 },
 "nbformat": 4,
 "nbformat_minor": 0
}
