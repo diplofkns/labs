{
 "cells": [
  {
   "cell_type": "markdown",
   "metadata": {
    "id": "seEtb73-2Lx5"
   },
   "source": [
    "Read NEON AOP hyperspectral flightline data using Python. \n",
    "\n",
    "If you are interested in learning how to do this for flightline NEON AOP hyperspectral data,\n",
    "please see <a href=\"/neon-aop-hdf5-py\" target=\"_blank\"> NEON AOP Hyperspectral Data in HDF5 format with Python - Flightlines</a>.\n",
    "\n",
    "### Learning Objectives\n",
    "\n",
    "* Use Python packages `h5py, and gdal`.\n",
    "* Use the package `h5py` and the `visititems` functionality to read an HDF5 file\n",
    "and view data attributes.\n",
    "* Read the data ignore value and scaling factor and apply these values to produce\n",
    "a cleaned reflectance array.\n",
    "* Extract and plot a single band of reflectance data\n",
    "* Plot a histogram of reflectance values to visualize the range and distribution\n",
    "of values.\n",
    "* Subset an hdf5 reflectance file from the full flightline to a smaller region\n",
    "of interest (if you complete the optional extension).\n",
    "* Apply a histogram stretch and adaptive equalization to improve the contrast\n",
    "of an image (if you complete the optional extension) .\n",
    "\n",
    "### Download Data\n",
    "\n",
    "To complete this tutorial, you will use data available from the NEON 2017 Data\n",
    "Institute.\n",
    "\n",
    "This tutorial uses the following files:\n",
    "\n",
    "<ul>\n",
    "    <li> <a href=\"https://www.neonscience.org/sites/default/files/neon_aop_spectral_python_functions_tiled_data.zip\">neon_aop_spectral_python_functions_tiled_data.zip (10 KB)</a> <- Click to Download</li>\n",
    "    <li><a href=\"https://ndownloader.figshare.com/files/25752665\" target=\"_blank\">NEON_D02_SERC_DP3_368000_4306000_reflectance.h5 (618 MB)</a> <- Click to Download</li>\n",
    "</ul>\n",
    "\n",
    "<a href=\"https://ndownloader.figshare.com/files/25752665\" class=\"link--button link--arrow\">\n",
    "Download Dataset</a>\n",
    "\n",
    "The LiDAR and imagery data used to create this raster teaching data subset\n",
    "were collected over the\n",
    "<a href=\"http://www.neonscience.org/\" target=\"_blank\"> National Ecological Observatory Network's</a>\n",
    "<a href=\"http://www.neonscience.org/science-design/field-sites/\" target=\"_blank\" >field sites</a>\n",
    "and processed at NEON headquarters.\n",
    "The entire dataset can be accessed on the\n",
    "<a href=\"http://data.neonscience.org\" target=\"_blank\"> NEON data portal</a>.\n"
   ]
  },
  {
   "cell_type": "code",
   "execution_count": null,
   "metadata": {
    "colab": {
     "base_uri": "https://localhost:8080/"
    },
    "executionInfo": {
     "elapsed": 31423,
     "status": "ok",
     "timestamp": 1697646012254,
     "user": {
      "displayName": "Samuel Foucher",
      "userId": "05133786799740420607"
     },
     "user_tz": 240
    },
    "id": "fLp2Fke23Rqx",
    "outputId": "99c6a322-cd78-468d-bd3a-948fa3ed96e5"
   },
   "outputs": [
    {
     "name": "stdout",
     "output_type": "stream",
     "text": [
      "Collecting pysptools==0.14.2\n",
      "  Downloading pysptools-0.14.2.tar.gz (6.1 MB)\n",
      "\u001b[2K     \u001b[90m━━━━━━━━━━━━━━━━━━━━━━━━━━━━━━━━━━━━━━━━\u001b[0m \u001b[32m6.1/6.1 MB\u001b[0m \u001b[31m9.6 MB/s\u001b[0m eta \u001b[36m0:00:00\u001b[0m\n",
      "\u001b[?25h  Preparing metadata (setup.py) ... \u001b[?25l\u001b[?25hdone\n",
      "Requirement already satisfied: cvxopt in /usr/local/lib/python3.10/dist-packages (1.3.2)\n",
      "Building wheels for collected packages: pysptools\n",
      "  Building wheel for pysptools (setup.py) ... \u001b[?25l\u001b[?25hdone\n",
      "  Created wheel for pysptools: filename=pysptools-0.14.2-py3-none-any.whl size=6154070 sha256=1e20f1dbe79427a00e12657fc9d8ef5eadc5d960b0ef3d0c36aa627fc61bb708\n",
      "  Stored in directory: /root/.cache/pip/wheels/78/8c/05/cf42c0b9778ec8bb8e850b7246a6be06075c285d612e153553\n",
      "Successfully built pysptools\n",
      "Installing collected packages: pysptools\n",
      "Successfully installed pysptools-0.14.2\n",
      "Collecting h5py==2.9.0\n",
      "  Downloading h5py-2.9.0.tar.gz (287 kB)\n",
      "\u001b[2K     \u001b[90m━━━━━━━━━━━━━━━━━━━━━━━━━━━━━━━━━━━━━━━━\u001b[0m \u001b[32m287.9/287.9 kB\u001b[0m \u001b[31m4.9 MB/s\u001b[0m eta \u001b[36m0:00:00\u001b[0m\n",
      "\u001b[?25h  Preparing metadata (setup.py) ... \u001b[?25l\u001b[?25hdone\n",
      "Requirement already satisfied: numpy>=1.7 in /usr/local/lib/python3.10/dist-packages (from h5py==2.9.0) (1.23.5)\n",
      "Requirement already satisfied: six in /usr/local/lib/python3.10/dist-packages (from h5py==2.9.0) (1.16.0)\n",
      "Building wheels for collected packages: h5py\n",
      "  \u001b[1;31merror\u001b[0m: \u001b[1msubprocess-exited-with-error\u001b[0m\n",
      "  \n",
      "  \u001b[31m×\u001b[0m \u001b[32mpython setup.py bdist_wheel\u001b[0m did not run successfully.\n",
      "  \u001b[31m│\u001b[0m exit code: \u001b[1;36m1\u001b[0m\n",
      "  \u001b[31m╰─>\u001b[0m See above for output.\n",
      "  \n",
      "  \u001b[1;35mnote\u001b[0m: This error originates from a subprocess, and is likely not a problem with pip.\n",
      "  Building wheel for h5py (setup.py) ... \u001b[?25lerror\n",
      "\u001b[31m  ERROR: Failed building wheel for h5py\u001b[0m\u001b[31m\n",
      "\u001b[0m\u001b[?25h  Running setup.py clean for h5py\n",
      "Failed to build h5py\n",
      "\u001b[31mERROR: Could not build wheels for h5py, which is required to install pyproject.toml-based projects\u001b[0m\u001b[31m\n",
      "\u001b[0m"
     ]
    }
   ],
   "source": [
    "!pip install pysptools==0.14.2 cvxopt\n",
    "!pip3 install h5py==2.9.0"
   ]
  },
  {
   "cell_type": "code",
   "execution_count": null,
   "metadata": {
    "colab": {
     "base_uri": "https://localhost:8080/"
    },
    "executionInfo": {
     "elapsed": 603,
     "status": "ok",
     "timestamp": 1697650026000,
     "user": {
      "displayName": "Samuel Foucher",
      "userId": "05133786799740420607"
     },
     "user_tz": 240
    },
    "id": "-kVPjEo82Ytj",
    "outputId": "e7c4d2ee-e8a8-4096-f6ed-8954af619dd6"
   },
   "outputs": [
    {
     "name": "stdout",
     "output_type": "stream",
     "text": [
      "--2023-10-18 17:27:01--  https://www.neonscience.org/sites/default/files/neon_aop_spectral_python_functions_tiled_data.zip\n",
      "Resolving www.neonscience.org (www.neonscience.org)... 34.238.11.122\n",
      "Connecting to www.neonscience.org (www.neonscience.org)|34.238.11.122|:443... connected.\n",
      "HTTP request sent, awaiting response... 200 OK\n",
      "Length: 10040 (9.8K) [application/zip]\n",
      "Saving to: ‘neon_aop_spectral_python_functions_tiled_data.zip’\n",
      "\n",
      "neon_aop_spectral_p 100%[===================>]   9.80K  --.-KB/s    in 0s      \n",
      "\n",
      "2023-10-18 17:27:01 (103 MB/s) - ‘neon_aop_spectral_python_functions_tiled_data.zip’ saved [10040/10040]\n",
      "\n",
      "Archive:  neon_aop_spectral_python_functions_tiled_data.zip\n",
      "   creating: neon_aop_spectral_python_functions_tiled_data/\n",
      "  inflating: neon_aop_spectral_python_functions_tiled_data/aop_h5refl2array.py  \n",
      "  inflating: neon_aop_spectral_python_functions_tiled_data/linearStretch.py  \n",
      "  inflating: neon_aop_spectral_python_functions_tiled_data/neon_aop_hyperspectral.py  \n",
      "  inflating: neon_aop_spectral_python_functions_tiled_data/plot_aop_refl.py  \n",
      "  inflating: neon_aop_spectral_python_functions_tiled_data/plot_aop_rgb.py  \n",
      "  inflating: neon_aop_spectral_python_functions_tiled_data/RGBplot_widget_tiled.py  \n",
      "   creating: __MACOSX/\n",
      "   creating: __MACOSX/neon_aop_spectral_python_functions_tiled_data/\n",
      "  inflating: __MACOSX/neon_aop_spectral_python_functions_tiled_data/._RGBplot_widget_tiled.py  \n",
      "  inflating: neon_aop_spectral_python_functions_tiled_data/stack_rgb.py  \n"
     ]
    }
   ],
   "source": [
    "!wget https://www.neonscience.org/sites/default/files/neon_aop_spectral_python_functions_tiled_data.zip\n",
    "!unzip neon_aop_spectral_python_functions_tiled_data.zip"
   ]
  },
  {
   "cell_type": "code",
   "execution_count": null,
   "metadata": {
    "colab": {
     "base_uri": "https://localhost:8080/",
     "height": 105
    },
    "executionInfo": {
     "elapsed": 8711,
     "status": "ok",
     "timestamp": 1697650038865,
     "user": {
      "displayName": "Samuel Foucher",
      "userId": "05133786799740420607"
     },
     "user_tz": 240
    },
    "id": "DeHdn1Qt21Oq",
    "outputId": "9e5b0695-52a9-4d08-9537-03b92a289c79"
   },
   "outputs": [
    {
     "name": "stderr",
     "output_type": "stream",
     "text": [
      "Downloading...\n",
      "From: https://drive.google.com/uc?export=download&confirm=pbef&id=1vwwvHzD-bo1CQkPduKVqRIMHYbVK-6Eq\n",
      "To: /content/NEON_D02_SERC_DP3_368000_4306000_reflectance.h5\n",
      "100%|██████████| 618M/618M [00:07<00:00, 81.4MB/s]\n"
     ]
    },
    {
     "data": {
      "application/vnd.google.colaboratory.intrinsic+json": {
       "type": "string"
      },
      "text/plain": [
       "'/content/NEON_D02_SERC_DP3_368000_4306000_reflectance.h5'"
      ]
     },
     "execution_count": 3,
     "metadata": {},
     "output_type": "execute_result"
    }
   ],
   "source": [
    "# https://drive.google.com/file/d/1vwwvHzD-bo1CQkPduKVqRIMHYbVK-6Eq/view?usp=sharing\n",
    "import gdown\n",
    "gdown.download(\n",
    "        f\"https://drive.google.com/uc?export=download&confirm=pbef&id=1vwwvHzD-bo1CQkPduKVqRIMHYbVK-6Eq\",\n",
    "        '/content/NEON_D02_SERC_DP3_368000_4306000_reflectance.h5'\n",
    "    )"
   ]
  },
  {
   "cell_type": "markdown",
   "metadata": {
    "id": "gbinh2Z22Lx6"
   },
   "source": [
    "Hyperspectral remote sensing data is a useful tool for measuring changes to our\n",
    "environment at the Earth’s surface. In this tutorial we explore how to extract\n",
    "information from a tile (1000m x 1000m x 426 bands) of NEON AOP orthorectified surface reflectance data, stored in hdf5 format. For more information on this data product, refer to the <a href=\"http://data.neonscience.org/data-products/DP3.30006.001\" target=\"_blank\">NEON Data Product Catalog</a>.\n",
    "\n",
    "#### Mapping the Invisible: Introduction to Spectral Remote Sensing\n",
    "\n",
    "For more information on spectral remote sensing watch this video.\n",
    "\n",
    "<iframe width=\"560\" height=\"315\" src=\"https://www.youtube.com/embed/3iaFzafWJQE\" frameborder=\"0\" allowfullscreen></iframe>\n",
    "\n",
    "\n",
    "## Set up\n"
   ]
  },
  {
   "cell_type": "code",
   "execution_count": null,
   "metadata": {
    "colab": {
     "base_uri": "https://localhost:8080/",
     "height": 367
    },
    "executionInfo": {
     "elapsed": 170,
     "status": "error",
     "timestamp": 1697650041409,
     "user": {
      "displayName": "Samuel Foucher",
      "userId": "05133786799740420607"
     },
     "user_tz": 240
    },
    "id": "iaWasCCU2Lx7",
    "outputId": "3005e4b6-d660-4e9e-8927-a0bc1e9e0845"
   },
   "outputs": [
    {
     "ename": "ModuleNotFoundError",
     "evalue": "ignored",
     "output_type": "error",
     "traceback": [
      "\u001b[0;31m---------------------------------------------------------------------------\u001b[0m",
      "\u001b[0;31mModuleNotFoundError\u001b[0m                       Traceback (most recent call last)",
      "\u001b[0;32m<ipython-input-4-611bec2ae179>\u001b[0m in \u001b[0;36m<cell line: 3>\u001b[0;34m()\u001b[0m\n\u001b[1;32m      1\u001b[0m \u001b[0;32mimport\u001b[0m \u001b[0mnumpy\u001b[0m \u001b[0;32mas\u001b[0m \u001b[0mnp\u001b[0m\u001b[0;34m\u001b[0m\u001b[0;34m\u001b[0m\u001b[0m\n\u001b[1;32m      2\u001b[0m \u001b[0;32mimport\u001b[0m \u001b[0mh5py\u001b[0m\u001b[0;34m\u001b[0m\u001b[0;34m\u001b[0m\u001b[0m\n\u001b[0;32m----> 3\u001b[0;31m \u001b[0;32mimport\u001b[0m \u001b[0mgdal\u001b[0m\u001b[0;34m,\u001b[0m \u001b[0mosr\u001b[0m\u001b[0;34m,\u001b[0m \u001b[0mos\u001b[0m\u001b[0;34m\u001b[0m\u001b[0;34m\u001b[0m\u001b[0m\n\u001b[0m\u001b[1;32m      4\u001b[0m \u001b[0;32mimport\u001b[0m \u001b[0mmatplotlib\u001b[0m\u001b[0;34m.\u001b[0m\u001b[0mpyplot\u001b[0m \u001b[0;32mas\u001b[0m \u001b[0mplt\u001b[0m\u001b[0;34m\u001b[0m\u001b[0;34m\u001b[0m\u001b[0m\n",
      "\u001b[0;31mModuleNotFoundError\u001b[0m: No module named 'gdal'",
      "",
      "\u001b[0;31m---------------------------------------------------------------------------\u001b[0;32m\nNOTE: If your import is failing due to a missing package, you can\nmanually install dependencies using either !pip or !apt.\n\nTo view examples of installing some common dependencies, click the\n\"Open Examples\" button below.\n\u001b[0;31m---------------------------------------------------------------------------\u001b[0m\n"
     ]
    }
   ],
   "source": [
    "import numpy as np\n",
    "import h5py\n",
    "#import gdal, osr\n",
    "import os\n",
    "import matplotlib.pyplot as plt"
   ]
  },
  {
   "cell_type": "code",
   "execution_count": null,
   "metadata": {
    "id": "_39yVZN82Lx9"
   },
   "outputs": [],
   "source": [
    "%matplotlib inline\n",
    "import warnings\n",
    "warnings.filterwarnings('ignore')"
   ]
  },
  {
   "cell_type": "markdown",
   "metadata": {
    "id": "0HiG8ZtU2Lx9"
   },
   "source": [
    "## Read in hdf5\n",
    "\n",
    "```f = h5py.File('file.h5','r')``` reads in an h5 file to the variable f.\n"
   ]
  },
  {
   "cell_type": "code",
   "execution_count": null,
   "metadata": {
    "colab": {
     "base_uri": "https://localhost:8080/"
    },
    "executionInfo": {
     "elapsed": 144,
     "status": "ok",
     "timestamp": 1697650054927,
     "user": {
      "displayName": "Samuel Foucher",
      "userId": "05133786799740420607"
     },
     "user_tz": 240
    },
    "id": "9qiNYwWv2Lx9",
    "outputId": "f23402ce-c005-4dd8-aad4-99a002f76587"
   },
   "outputs": [
    {
     "name": "stdout",
     "output_type": "stream",
     "text": [
      "Help on package h5py:\n",
      "\n",
      "NAME\n",
      "    h5py\n",
      "\n",
      "DESCRIPTION\n",
      "    This is the h5py package, a Python interface to the HDF5\n",
      "    scientific data format.\n",
      "\n",
      "PACKAGE CONTENTS\n",
      "    _conv\n",
      "    _errors\n",
      "    _hl (package)\n",
      "    _objects\n",
      "    _proxy\n",
      "    _selector\n",
      "    defs\n",
      "    h5\n",
      "    h5a\n",
      "    h5ac\n",
      "    h5d\n",
      "    h5ds\n",
      "    h5f\n",
      "    h5fd\n",
      "    h5g\n",
      "    h5i\n",
      "    h5l\n",
      "    h5o\n",
      "    h5p\n",
      "    h5pl\n",
      "    h5py_warnings\n",
      "    h5r\n",
      "    h5s\n",
      "    h5t\n",
      "    h5z\n",
      "    ipy_completer\n",
      "    tests (package)\n",
      "    utils\n",
      "    version\n",
      "\n",
      "SUBMODULES\n",
      "    filters\n",
      "\n",
      "FUNCTIONS\n",
      "    check_enum_dtype(...)\n",
      "        If the dtype represents an HDF5 enumerated type, returns the dictionary\n",
      "        mapping string names to integer values.\n",
      "        \n",
      "        Returns None if the dtype does not represent an HDF5 enumerated type.\n",
      "    \n",
      "    check_opaque_dtype(...)\n",
      "        Return True if the dtype given is tagged to be stored as HDF5 opaque data\n",
      "    \n",
      "    check_ref_dtype(...)\n",
      "        If the dtype represents an HDF5 reference type, returns the reference\n",
      "        class (either Reference or RegionReference).\n",
      "        \n",
      "        Returns None if the dtype does not represent an HDF5 reference type.\n",
      "    \n",
      "    check_string_dtype(...)\n",
      "        If the dtype represents an HDF5 string, returns a string_info object.\n",
      "        \n",
      "        The returned string_info object holds the encoding and the length.\n",
      "        The encoding can only be 'utf-8' or 'ascii'. The length may be None\n",
      "        for a variable-length string, or a fixed length in bytes.\n",
      "        \n",
      "        Returns None if the dtype does not represent an HDF5 string.\n",
      "    \n",
      "    check_vlen_dtype(...)\n",
      "        If the dtype represents an HDF5 vlen, returns the Python base class.\n",
      "        \n",
      "        Returns None if the dtype does not represent an HDF5 vlen.\n",
      "    \n",
      "    enable_ipython_completer()\n",
      "        Call this from an interactive IPython session to enable tab-completion\n",
      "        of group and attribute names.\n",
      "    \n",
      "    enum_dtype(...)\n",
      "        Create a NumPy representation of an HDF5 enumerated type\n",
      "        \n",
      "        *values_dict* maps string names to integer values. *basetype* is an\n",
      "        appropriate integer base dtype large enough to hold the possible options.\n",
      "    \n",
      "    get_config(...)\n",
      "        () => H5PYConfig\n",
      "        \n",
      "        Get a reference to the global library configuration object.\n",
      "    \n",
      "    opaque_dtype(...)\n",
      "        Return an equivalent dtype tagged to be stored in an HDF5 opaque type.\n",
      "        \n",
      "        This makes it easy to store numpy data like datetimes for which there is\n",
      "        no equivalent HDF5 type, but it's not interoperable: other tools won't treat\n",
      "        the opaque data as datetimes.\n",
      "    \n",
      "    run_tests(args='')\n",
      "        Run tests with pytest and returns the exit status as an int.\n",
      "    \n",
      "    string_dtype(...)\n",
      "        Make a numpy dtype for HDF5 strings\n",
      "        \n",
      "        encoding may be 'utf-8' or 'ascii'.\n",
      "        \n",
      "        length may be an integer for a fixed length string dtype, or None for\n",
      "        variable length strings. String lengths for HDF5 are counted in bytes,\n",
      "        not unicode code points.\n",
      "        \n",
      "        For variable length strings, the data should be passed as Python str objects\n",
      "        (unicode in Python 2) if the encoding is 'utf-8', and bytes if it is 'ascii'.\n",
      "        For fixed length strings, the data should be numpy fixed length *bytes*\n",
      "        arrays, regardless of the encoding. Fixed length unicode data is not\n",
      "        supported.\n",
      "    \n",
      "    vlen_dtype(...)\n",
      "        Make a numpy dtype for an HDF5 variable-length datatype\n",
      "        \n",
      "        For variable-length string dtypes, use :func:`string_dtype` instead.\n",
      "\n",
      "DATA\n",
      "    UNLIMITED = 18446744073709551615\n",
      "    ref_dtype = dtype('O')\n",
      "    regionref_dtype = dtype('O')\n",
      "\n",
      "VERSION\n",
      "    3.9.0\n",
      "\n",
      "FILE\n",
      "    /usr/local/lib/python3.10/dist-packages/h5py/__init__.py\n",
      "\n",
      "\n"
     ]
    }
   ],
   "source": [
    "help(h5py)"
   ]
  },
  {
   "cell_type": "code",
   "execution_count": null,
   "metadata": {
    "id": "T_Mndyw42Lx-"
   },
   "outputs": [],
   "source": [
    "h5py.File?"
   ]
  },
  {
   "cell_type": "code",
   "execution_count": null,
   "metadata": {
    "id": "0jaZDm3D2Lx-"
   },
   "outputs": [],
   "source": [
    "# Note that you will need to update this filepath for your local machine\n",
    "f = h5py.File('/content/NEON_D02_SERC_DP3_368000_4306000_reflectance.h5','r')"
   ]
  },
  {
   "cell_type": "code",
   "execution_count": null,
   "metadata": {
    "colab": {
     "base_uri": "https://localhost:8080/"
    },
    "executionInfo": {
     "elapsed": 235,
     "status": "ok",
     "timestamp": 1697651347764,
     "user": {
      "displayName": "Samuel Foucher",
      "userId": "05133786799740420607"
     },
     "user_tz": 240
    },
    "id": "HzDVjB9k57Ew",
    "outputId": "9cf8a4e8-22a4-44bf-bafd-b10ac1f68354"
   },
   "outputs": [
    {
     "name": "stdout",
     "output_type": "stream",
     "text": [
      "<KeysViewHDF5 ['SERC']>\n"
     ]
    }
   ],
   "source": [
    "print(f.keys())\n"
   ]
  },
  {
   "cell_type": "code",
   "execution_count": null,
   "metadata": {
    "colab": {
     "base_uri": "https://localhost:8080/",
     "height": 575
    },
    "executionInfo": {
     "elapsed": 8,
     "status": "error",
     "timestamp": 1697651372384,
     "user": {
      "displayName": "Samuel Foucher",
      "userId": "05133786799740420607"
     },
     "user_tz": 240
    },
    "id": "mo2SQO925q7l",
    "outputId": "3a59f871-9d88-4419-9ba6-997fea5c3ef8"
   },
   "outputs": [
    {
     "name": "stdout",
     "output_type": "stream",
     "text": [
      "Domain Name D02\n",
      "Site Code SERC\n",
      "Site Name Smithsonian Environmental Research Center\n"
     ]
    },
    {
     "ename": "KeyError",
     "evalue": "ignored",
     "output_type": "error",
     "traceback": [
      "\u001b[0;31m---------------------------------------------------------------------------\u001b[0m",
      "\u001b[0;31mKeyError\u001b[0m                                  Traceback (most recent call last)",
      "\u001b[0;32m<ipython-input-57-6a2b4d10d921>\u001b[0m in \u001b[0;36m<cell line: 6>\u001b[0;34m()\u001b[0m\n\u001b[1;32m      4\u001b[0m \u001b[0;34m\u001b[0m\u001b[0m\n\u001b[1;32m      5\u001b[0m \u001b[0;31m# Print group attributes\u001b[0m\u001b[0;34m\u001b[0m\u001b[0;34m\u001b[0m\u001b[0m\n\u001b[0;32m----> 6\u001b[0;31m \u001b[0;32mfor\u001b[0m \u001b[0mkey\u001b[0m\u001b[0;34m,\u001b[0m \u001b[0mvalue\u001b[0m \u001b[0;32min\u001b[0m \u001b[0mf\u001b[0m\u001b[0;34m[\u001b[0m\u001b[0;34m'group'\u001b[0m\u001b[0;34m]\u001b[0m\u001b[0;34m.\u001b[0m\u001b[0mattrs\u001b[0m\u001b[0;34m.\u001b[0m\u001b[0mitems\u001b[0m\u001b[0;34m(\u001b[0m\u001b[0;34m)\u001b[0m\u001b[0;34m:\u001b[0m\u001b[0;34m\u001b[0m\u001b[0;34m\u001b[0m\u001b[0m\n\u001b[0m\u001b[1;32m      7\u001b[0m     \u001b[0mprint\u001b[0m\u001b[0;34m(\u001b[0m\u001b[0mkey\u001b[0m\u001b[0;34m,\u001b[0m \u001b[0mvalue\u001b[0m\u001b[0;34m)\u001b[0m\u001b[0;34m\u001b[0m\u001b[0;34m\u001b[0m\u001b[0m\n",
      "\u001b[0;32mh5py/_objects.pyx\u001b[0m in \u001b[0;36mh5py._objects.with_phil.wrapper\u001b[0;34m()\u001b[0m\n",
      "\u001b[0;32mh5py/_objects.pyx\u001b[0m in \u001b[0;36mh5py._objects.with_phil.wrapper\u001b[0;34m()\u001b[0m\n",
      "\u001b[0;32m/usr/local/lib/python3.10/dist-packages/h5py/_hl/group.py\u001b[0m in \u001b[0;36m__getitem__\u001b[0;34m(self, name)\u001b[0m\n\u001b[1;32m    355\u001b[0m                 \u001b[0;32mraise\u001b[0m \u001b[0mValueError\u001b[0m\u001b[0;34m(\u001b[0m\u001b[0;34m\"Invalid HDF5 object reference\"\u001b[0m\u001b[0;34m)\u001b[0m\u001b[0;34m\u001b[0m\u001b[0;34m\u001b[0m\u001b[0m\n\u001b[1;32m    356\u001b[0m         \u001b[0;32melif\u001b[0m \u001b[0misinstance\u001b[0m\u001b[0;34m(\u001b[0m\u001b[0mname\u001b[0m\u001b[0;34m,\u001b[0m \u001b[0;34m(\u001b[0m\u001b[0mbytes\u001b[0m\u001b[0;34m,\u001b[0m \u001b[0mstr\u001b[0m\u001b[0;34m)\u001b[0m\u001b[0;34m)\u001b[0m\u001b[0;34m:\u001b[0m\u001b[0;34m\u001b[0m\u001b[0;34m\u001b[0m\u001b[0m\n\u001b[0;32m--> 357\u001b[0;31m             \u001b[0moid\u001b[0m \u001b[0;34m=\u001b[0m \u001b[0mh5o\u001b[0m\u001b[0;34m.\u001b[0m\u001b[0mopen\u001b[0m\u001b[0;34m(\u001b[0m\u001b[0mself\u001b[0m\u001b[0;34m.\u001b[0m\u001b[0mid\u001b[0m\u001b[0;34m,\u001b[0m \u001b[0mself\u001b[0m\u001b[0;34m.\u001b[0m\u001b[0m_e\u001b[0m\u001b[0;34m(\u001b[0m\u001b[0mname\u001b[0m\u001b[0;34m)\u001b[0m\u001b[0;34m,\u001b[0m \u001b[0mlapl\u001b[0m\u001b[0;34m=\u001b[0m\u001b[0mself\u001b[0m\u001b[0;34m.\u001b[0m\u001b[0m_lapl\u001b[0m\u001b[0;34m)\u001b[0m\u001b[0;34m\u001b[0m\u001b[0;34m\u001b[0m\u001b[0m\n\u001b[0m\u001b[1;32m    358\u001b[0m         \u001b[0;32melse\u001b[0m\u001b[0;34m:\u001b[0m\u001b[0;34m\u001b[0m\u001b[0;34m\u001b[0m\u001b[0m\n\u001b[1;32m    359\u001b[0m             raise TypeError(\"Accessing a group is done with bytes or str, \"\n",
      "\u001b[0;32mh5py/_objects.pyx\u001b[0m in \u001b[0;36mh5py._objects.with_phil.wrapper\u001b[0;34m()\u001b[0m\n",
      "\u001b[0;32mh5py/_objects.pyx\u001b[0m in \u001b[0;36mh5py._objects.with_phil.wrapper\u001b[0;34m()\u001b[0m\n",
      "\u001b[0;32mh5py/h5o.pyx\u001b[0m in \u001b[0;36mh5py.h5o.open\u001b[0;34m()\u001b[0m\n",
      "\u001b[0;31mKeyError\u001b[0m: \"Unable to open object (object 'group' doesn't exist)\""
     ]
    }
   ],
   "source": [
    "# Print dataset attributes\n",
    "for key, value in f['SERC'].attrs.items():\n",
    "    print(key, value)\n",
    "\n",
    "# Print group attributes\n",
    "for key, value in f['group'].attrs.items():\n",
    "    print(key, value)"
   ]
  },
  {
   "cell_type": "markdown",
   "metadata": {
    "id": "MkEq9OY62Lx_"
   },
   "source": [
    "## Explore NEON AOP HDF5 Reflectance Files\n",
    "\n",
    "We can look inside the HDF5 dataset with the ```h5py visititems``` function. The ```list_dataset``` function defined below displays all datasets stored in the hdf5 file and their locations within the hdf5 file:"
   ]
  },
  {
   "cell_type": "code",
   "execution_count": null,
   "metadata": {
    "colab": {
     "base_uri": "https://localhost:8080/"
    },
    "executionInfo": {
     "elapsed": 208,
     "status": "ok",
     "timestamp": 1697651324886,
     "user": {
      "displayName": "Samuel Foucher",
      "userId": "05133786799740420607"
     },
     "user_tz": 240
    },
    "id": "Vmy13GZh2Lx_",
    "outputId": "6fa6bf5e-ea91-4212-93b8-dea8538b8660"
   },
   "outputs": [
    {
     "name": "stdout",
     "output_type": "stream",
     "text": [
      "SERC/Reflectance/Metadata/Ancillary_Imagery/Aerosol_Optical_Depth\n",
      "SERC/Reflectance/Metadata/Ancillary_Imagery/Aspect\n",
      "SERC/Reflectance/Metadata/Ancillary_Imagery/Cast_Shadow\n",
      "SERC/Reflectance/Metadata/Ancillary_Imagery/Dark_Dense_Vegetation_Classification\n",
      "SERC/Reflectance/Metadata/Ancillary_Imagery/Data_Selection_Index\n",
      "SERC/Reflectance/Metadata/Ancillary_Imagery/Haze_Cloud_Water_Map\n",
      "SERC/Reflectance/Metadata/Ancillary_Imagery/Illumination_Factor\n",
      "SERC/Reflectance/Metadata/Ancillary_Imagery/Path_Length\n",
      "SERC/Reflectance/Metadata/Ancillary_Imagery/Sky_View_Factor\n",
      "SERC/Reflectance/Metadata/Ancillary_Imagery/Slope\n",
      "SERC/Reflectance/Metadata/Ancillary_Imagery/Smooth_Surface_Elevation\n",
      "SERC/Reflectance/Metadata/Ancillary_Imagery/Visibility_Index_Map\n",
      "SERC/Reflectance/Metadata/Ancillary_Imagery/Water_Vapor_Column\n",
      "SERC/Reflectance/Metadata/Ancillary_Imagery/Weather_Quality_Indicator\n",
      "SERC/Reflectance/Metadata/Coordinate_System/Coordinate_System_String\n",
      "SERC/Reflectance/Metadata/Coordinate_System/EPSG Code\n",
      "SERC/Reflectance/Metadata/Coordinate_System/Map_Info\n",
      "SERC/Reflectance/Metadata/Coordinate_System/Proj4\n",
      "SERC/Reflectance/Metadata/Logs/160154/ATCOR_Input_file\n",
      "SERC/Reflectance/Metadata/Logs/160154/ATCOR_Processing_Log\n",
      "SERC/Reflectance/Metadata/Logs/160154/Shadow_Processing_Log\n",
      "SERC/Reflectance/Metadata/Logs/160154/Skyview_Processing_Log\n",
      "SERC/Reflectance/Metadata/Logs/160154/Solar_Azimuth_Angle\n",
      "SERC/Reflectance/Metadata/Logs/160154/Solar_Zenith_Angle\n",
      "SERC/Reflectance/Metadata/Logs/160742/ATCOR_Input_file\n",
      "SERC/Reflectance/Metadata/Logs/160742/ATCOR_Processing_Log\n",
      "SERC/Reflectance/Metadata/Logs/160742/Shadow_Processing_Log\n",
      "SERC/Reflectance/Metadata/Logs/160742/Skyview_Processing_Log\n",
      "SERC/Reflectance/Metadata/Logs/160742/Solar_Azimuth_Angle\n",
      "SERC/Reflectance/Metadata/Logs/160742/Solar_Zenith_Angle\n",
      "SERC/Reflectance/Metadata/Logs/161252/ATCOR_Input_file\n",
      "SERC/Reflectance/Metadata/Logs/161252/ATCOR_Processing_Log\n",
      "SERC/Reflectance/Metadata/Logs/161252/Shadow_Processing_Log\n",
      "SERC/Reflectance/Metadata/Logs/161252/Skyview_Processing_Log\n",
      "SERC/Reflectance/Metadata/Logs/161252/Solar_Azimuth_Angle\n",
      "SERC/Reflectance/Metadata/Logs/161252/Solar_Zenith_Angle\n",
      "SERC/Reflectance/Metadata/Spectral_Data/FWHM\n",
      "SERC/Reflectance/Metadata/Spectral_Data/Wavelength\n",
      "SERC/Reflectance/Metadata/to-sensor_azimuth_angle\n",
      "SERC/Reflectance/Metadata/to-sensor_zenith_angle\n",
      "SERC/Reflectance/Reflectance_Data\n"
     ]
    }
   ],
   "source": [
    "#list_dataset lists the names of datasets in an hdf5 file\n",
    "def list_dataset(name,node):\n",
    "    if isinstance(node, h5py.Dataset):\n",
    "        print(name)\n",
    "\n",
    "f.visititems(list_dataset)"
   ]
  },
  {
   "cell_type": "markdown",
   "metadata": {
    "id": "TBUvTijd2Lx_"
   },
   "source": [
    "You can see that there is a lot of information stored inside this reflectance hdf5 file. Most of this information is *metadata* (data about the reflectance data), for example, this file stores input parameters used in the atmospheric correction. For this introductory lesson, we will only work with two of these datasets, the reflectance data (hyperspectral cube), and the corresponding geospatial information, stored in Metadata/Coordinate_System:\n",
    "\n",
    "- `SERC/Reflectance/Reflectance_Data`\n",
    "- `SERC/Reflectance/Metadata/Coordinate_System/`\n",
    "\n",
    "We can also display the name, shape, and type of each of these datasets using the `ls_dataset` function defined below, which is also called with the `visititems` method:"
   ]
  },
  {
   "cell_type": "code",
   "execution_count": null,
   "metadata": {
    "id": "eeHbd17V2Lx_"
   },
   "outputs": [],
   "source": [
    "#ls_dataset displays the name, shape, and type of datasets in hdf5 file\n",
    "def ls_dataset(name,node):\n",
    "    if isinstance(node, h5py.Dataset):\n",
    "        print(node)"
   ]
  },
  {
   "cell_type": "code",
   "execution_count": null,
   "metadata": {
    "id": "wVbI67kv2LyA"
   },
   "outputs": [],
   "source": [
    "#to see what the visititems methods does, type ? at the end:\n",
    "f.visititems?"
   ]
  },
  {
   "cell_type": "code",
   "execution_count": null,
   "metadata": {
    "colab": {
     "base_uri": "https://localhost:8080/"
    },
    "executionInfo": {
     "elapsed": 159,
     "status": "ok",
     "timestamp": 1697650073479,
     "user": {
      "displayName": "Samuel Foucher",
      "userId": "05133786799740420607"
     },
     "user_tz": 240
    },
    "id": "3XL7TmG72LyA",
    "outputId": "0696c5a5-d346-4ba0-b17c-f8e86c882721"
   },
   "outputs": [
    {
     "name": "stdout",
     "output_type": "stream",
     "text": [
      "<HDF5 dataset \"Aerosol_Optical_Depth\": shape (1000, 1000), type \"<i2\">\n",
      "<HDF5 dataset \"Aspect\": shape (1000, 1000), type \"<f4\">\n",
      "<HDF5 dataset \"Cast_Shadow\": shape (1000, 1000), type \"|u1\">\n",
      "<HDF5 dataset \"Dark_Dense_Vegetation_Classification\": shape (1000, 1000), type \"|u1\">\n",
      "<HDF5 dataset \"Data_Selection_Index\": shape (1000, 1000), type \"<i4\">\n",
      "<HDF5 dataset \"Haze_Cloud_Water_Map\": shape (1000, 1000), type \"|u1\">\n",
      "<HDF5 dataset \"Illumination_Factor\": shape (1000, 1000), type \"|u1\">\n",
      "<HDF5 dataset \"Path_Length\": shape (1000, 1000), type \"<f4\">\n",
      "<HDF5 dataset \"Sky_View_Factor\": shape (1000, 1000), type \"|u1\">\n",
      "<HDF5 dataset \"Slope\": shape (1000, 1000), type \"<f4\">\n",
      "<HDF5 dataset \"Smooth_Surface_Elevation\": shape (1000, 1000), type \"<f4\">\n",
      "<HDF5 dataset \"Visibility_Index_Map\": shape (1000, 1000), type \"|u1\">\n",
      "<HDF5 dataset \"Water_Vapor_Column\": shape (1000, 1000), type \"<f4\">\n",
      "<HDF5 dataset \"Weather_Quality_Indicator\": shape (1000, 1000, 3), type \"|u1\">\n",
      "<HDF5 dataset \"Coordinate_System_String\": shape (), type \"|O\">\n",
      "<HDF5 dataset \"EPSG Code\": shape (), type \"|O\">\n",
      "<HDF5 dataset \"Map_Info\": shape (), type \"|O\">\n",
      "<HDF5 dataset \"Proj4\": shape (), type \"|O\">\n",
      "<HDF5 dataset \"ATCOR_Input_file\": shape (), type \"|O\">\n",
      "<HDF5 dataset \"ATCOR_Processing_Log\": shape (), type \"|O\">\n",
      "<HDF5 dataset \"Shadow_Processing_Log\": shape (), type \"|O\">\n",
      "<HDF5 dataset \"Skyview_Processing_Log\": shape (), type \"|O\">\n",
      "<HDF5 dataset \"Solar_Azimuth_Angle\": shape (), type \"<f4\">\n",
      "<HDF5 dataset \"Solar_Zenith_Angle\": shape (), type \"<f4\">\n",
      "<HDF5 dataset \"ATCOR_Input_file\": shape (), type \"|O\">\n",
      "<HDF5 dataset \"ATCOR_Processing_Log\": shape (), type \"|O\">\n",
      "<HDF5 dataset \"Shadow_Processing_Log\": shape (), type \"|O\">\n",
      "<HDF5 dataset \"Skyview_Processing_Log\": shape (), type \"|O\">\n",
      "<HDF5 dataset \"Solar_Azimuth_Angle\": shape (), type \"<f4\">\n",
      "<HDF5 dataset \"Solar_Zenith_Angle\": shape (), type \"<f4\">\n",
      "<HDF5 dataset \"ATCOR_Input_file\": shape (), type \"|O\">\n",
      "<HDF5 dataset \"ATCOR_Processing_Log\": shape (), type \"|O\">\n",
      "<HDF5 dataset \"Shadow_Processing_Log\": shape (), type \"|O\">\n",
      "<HDF5 dataset \"Skyview_Processing_Log\": shape (), type \"|O\">\n",
      "<HDF5 dataset \"Solar_Azimuth_Angle\": shape (), type \"<f4\">\n",
      "<HDF5 dataset \"Solar_Zenith_Angle\": shape (), type \"<f4\">\n",
      "<HDF5 dataset \"FWHM\": shape (426,), type \"<f4\">\n",
      "<HDF5 dataset \"Wavelength\": shape (426,), type \"<f4\">\n",
      "<HDF5 dataset \"to-sensor_azimuth_angle\": shape (1000, 1000), type \"<f4\">\n",
      "<HDF5 dataset \"to-sensor_zenith_angle\": shape (1000, 1000), type \"<f4\">\n",
      "<HDF5 dataset \"Reflectance_Data\": shape (1000, 1000, 426), type \"<i2\">\n"
     ]
    }
   ],
   "source": [
    "f.visititems(ls_dataset)"
   ]
  },
  {
   "cell_type": "markdown",
   "metadata": {
    "id": "ZehTb0Bh2LyA"
   },
   "source": [
    "Now that we can see the structure of the hdf5 file, let's take a look at some of the information that is stored inside. Let's start by extracting the reflectance data, which is nested under `SERC/Reflectance/Reflectance_Data`:  "
   ]
  },
  {
   "cell_type": "code",
   "execution_count": null,
   "metadata": {
    "colab": {
     "base_uri": "https://localhost:8080/"
    },
    "executionInfo": {
     "elapsed": 133,
     "status": "ok",
     "timestamp": 1697650078161,
     "user": {
      "displayName": "Samuel Foucher",
      "userId": "05133786799740420607"
     },
     "user_tz": 240
    },
    "id": "t38jPDre2LyA",
    "outputId": "7b3328e7-3047-4650-e680-1f6da83e2236"
   },
   "outputs": [
    {
     "name": "stdout",
     "output_type": "stream",
     "text": [
      "<HDF5 group \"/SERC/Reflectance\" (2 members)>\n"
     ]
    }
   ],
   "source": [
    "serc_refl = f['SERC']['Reflectance']\n",
    "print(serc_refl)"
   ]
  },
  {
   "cell_type": "markdown",
   "metadata": {
    "id": "VIQCLXsP2LyA"
   },
   "source": [
    "The two members of the HDF5 group `/SERC/Reflectance` are `Metadata` and `Reflectance_Data`. Let's save the reflectance data as the variable serc_reflArray:"
   ]
  },
  {
   "cell_type": "code",
   "execution_count": null,
   "metadata": {
    "colab": {
     "base_uri": "https://localhost:8080/"
    },
    "executionInfo": {
     "elapsed": 222,
     "status": "ok",
     "timestamp": 1697650081344,
     "user": {
      "displayName": "Samuel Foucher",
      "userId": "05133786799740420607"
     },
     "user_tz": 240
    },
    "id": "jqaJuAWj2LyA",
    "outputId": "e0ac3e27-a480-4ed2-f970-7bdd468c4386"
   },
   "outputs": [
    {
     "name": "stdout",
     "output_type": "stream",
     "text": [
      "<HDF5 dataset \"Reflectance_Data\": shape (1000, 1000, 426), type \"<i2\">\n"
     ]
    }
   ],
   "source": [
    "serc_reflArray = serc_refl['Reflectance_Data']\n",
    "print(serc_reflArray)"
   ]
  },
  {
   "cell_type": "markdown",
   "metadata": {
    "id": "z3iiByY02LyB"
   },
   "source": [
    "We can extract the size of this reflectance array that we extracted using the `shape` method:"
   ]
  },
  {
   "cell_type": "code",
   "execution_count": null,
   "metadata": {
    "colab": {
     "base_uri": "https://localhost:8080/"
    },
    "executionInfo": {
     "elapsed": 170,
     "status": "ok",
     "timestamp": 1697650083686,
     "user": {
      "displayName": "Samuel Foucher",
      "userId": "05133786799740420607"
     },
     "user_tz": 240
    },
    "id": "kxwqqYAR2LyB",
    "outputId": "c5f44612-1c20-4173-8284-3a0c67ae0eaa"
   },
   "outputs": [
    {
     "name": "stdout",
     "output_type": "stream",
     "text": [
      "SERC Reflectance Data Dimensions: (1000, 1000, 426)\n"
     ]
    }
   ],
   "source": [
    "refl_shape = serc_reflArray.shape\n",
    "print('SERC Reflectance Data Dimensions:',refl_shape)"
   ]
  },
  {
   "cell_type": "markdown",
   "metadata": {
    "id": "uC2NWaHe2LyB"
   },
   "source": [
    "This 3-D shape (1000,1000,426) corresponds to (y,x,bands), where (x,y) are the dimensions of the reflectance array in pixels. Hyperspectral data sets are often called \"cubes\" to reflect this 3-dimensional shape.\n",
    "\n",
    "<figure>\n",
    "    <a href=\"https://raw.githubusercontent.com/NEONScience/NEON-Data-Skills/main/graphics/hyperspectral-general/DataCube.png\">\n",
    "    <img src=\"https://raw.githubusercontent.com/NEONScience/NEON-Data-Skills/main/graphics/hyperspectral-general/DataCube.png\"></a>\n",
    "    <figcaption> A \"cube\" showing a hyperspectral data set. Source: National Ecological Observatory Network\n",
    "    (NEON)  \n",
    "    </figcaption>\n",
    "</figure>\n",
    "\n",
    "\n",
    "NEON hyperspectral data contain around 426 spectral bands, and when working with tiled data, the spatial dimensions are 1000 x 1000, where each pixel represents 1 meter. Now let's take a look at the wavelength values. First, we will extract wavelength information from the `serc_refl` variable that we created:"
   ]
  },
  {
   "cell_type": "code",
   "execution_count": null,
   "metadata": {
    "colab": {
     "base_uri": "https://localhost:8080/"
    },
    "executionInfo": {
     "elapsed": 148,
     "status": "ok",
     "timestamp": 1697650090828,
     "user": {
      "displayName": "Samuel Foucher",
      "userId": "05133786799740420607"
     },
     "user_tz": 240
    },
    "id": "6ixedHYt2LyB",
    "outputId": "a6bcb266-c8ca-4bd2-8894-cd52c956667c"
   },
   "outputs": [
    {
     "name": "stdout",
     "output_type": "stream",
     "text": [
      "wavelengths: <HDF5 dataset \"Wavelength\": shape (426,), type \"<f4\">\n"
     ]
    }
   ],
   "source": [
    "#define the wavelengths variable\n",
    "wavelengths = serc_refl['Metadata']['Spectral_Data']['Wavelength']\n",
    "\n",
    "#View wavelength information and values\n",
    "print('wavelengths:',wavelengths)"
   ]
  },
  {
   "cell_type": "markdown",
   "metadata": {
    "id": "XXFPDMCt2LyB"
   },
   "source": [
    "We can then use `numpy` (imported as `np`) to see the minimum and maximum wavelength values:"
   ]
  },
  {
   "cell_type": "code",
   "execution_count": null,
   "metadata": {
    "colab": {
     "base_uri": "https://localhost:8080/"
    },
    "executionInfo": {
     "elapsed": 541,
     "status": "ok",
     "timestamp": 1697650093878,
     "user": {
      "displayName": "Samuel Foucher",
      "userId": "05133786799740420607"
     },
     "user_tz": 240
    },
    "id": "uq8mjhTZ2LyB",
    "outputId": "fafbeed1-6426-4234-c492-c750f9f4aab5"
   },
   "outputs": [
    {
     "name": "stdout",
     "output_type": "stream",
     "text": [
      "min wavelength: 383.5343 nm\n",
      "max wavelength: 2511.8945 nm\n"
     ]
    }
   ],
   "source": [
    "# Display min & max wavelengths\n",
    "print('min wavelength:', np.amin(wavelengths),'nm')\n",
    "print('max wavelength:', np.amax(wavelengths),'nm')"
   ]
  },
  {
   "cell_type": "markdown",
   "metadata": {
    "id": "bAMRMYSN2LyB"
   },
   "source": [
    "Finally, we can determine the band widths (distance between center bands of two adjacent bands). Let's try this for the first two bands and the last two bands. Remember that Python uses 0-based indexing (`[0]` represents the first value in an array), and note that you can also use negative numbers to splice values from the end of an array (`[-1]` represents the last value in an array)."
   ]
  },
  {
   "cell_type": "code",
   "execution_count": null,
   "metadata": {
    "colab": {
     "base_uri": "https://localhost:8080/"
    },
    "executionInfo": {
     "elapsed": 156,
     "status": "ok",
     "timestamp": 1697650096302,
     "user": {
      "displayName": "Samuel Foucher",
      "userId": "05133786799740420607"
     },
     "user_tz": 240
    },
    "id": "ts90-_dn2LyB",
    "outputId": "b5518ea8-28e2-4397-acb6-b4b649719279"
   },
   "outputs": [
    {
     "name": "stdout",
     "output_type": "stream",
     "text": [
      "band width between first 2 bands = 5.007904 nm\n",
      "band width between last 2 bands = 5.0078125 nm\n"
     ]
    }
   ],
   "source": [
    "#show the band widths between the first 2 bands and last 2 bands\n",
    "print('band width between first 2 bands =',(wavelengths[1]-wavelengths[0]),'nm')\n",
    "print('band width between last 2 bands =',(wavelengths[-1]-wavelengths[-2]),'nm')"
   ]
  },
  {
   "cell_type": "markdown",
   "metadata": {
    "id": "G5lUL1Y12LyB"
   },
   "source": [
    "The center wavelengths recorded in this hyperspectral cube range from `383.66 - 2511.94 nm`, and each band covers a range of ~`5 nm`. Now let's extract spatial information, which is stored under `SERC/Reflectance/Metadata/Coordinate_System/Map_Info`:"
   ]
  },
  {
   "cell_type": "code",
   "execution_count": null,
   "metadata": {
    "colab": {
     "base_uri": "https://localhost:8080/"
    },
    "executionInfo": {
     "elapsed": 259,
     "status": "ok",
     "timestamp": 1697650986423,
     "user": {
      "displayName": "Samuel Foucher",
      "userId": "05133786799740420607"
     },
     "user_tz": 240
    },
    "id": "vH15baX64MBO",
    "outputId": "2252de72-8bcb-4054-e64d-155e37c5bb83"
   },
   "outputs": [
    {
     "name": "stdout",
     "output_type": "stream",
     "text": [
      "Band_Window_1_Nanometers [1340 1445]\n",
      "Band_Window_2_Nanometers [1790 1955]\n",
      "Description b'Calibrated, processed, atmospherically corrected and geometrically located reflectance data and associated ancillary imagery derived from NEON Airborne Observatory Platform (AOP) Imaging Spectrometer'\n",
      "PayloadID b'NEON-P1C1'\n",
      "Sensor b'NIS1'\n"
     ]
    }
   ],
   "source": [
    "for att in serc_refl.attrs:\n",
    "    print(att,serc_refl.attrs[att])"
   ]
  },
  {
   "cell_type": "code",
   "execution_count": null,
   "metadata": {
    "colab": {
     "base_uri": "https://localhost:8080/"
    },
    "executionInfo": {
     "elapsed": 155,
     "status": "ok",
     "timestamp": 1697650321708,
     "user": {
      "displayName": "Samuel Foucher",
      "userId": "05133786799740420607"
     },
     "user_tz": 240
    },
    "id": "NOUf1x5L10-h",
    "outputId": "3ec101f5-763b-46c9-e294-c0c5f652ae6d"
   },
   "outputs": [
    {
     "name": "stdout",
     "output_type": "stream",
     "text": [
      "<KeysViewHDF5 ['Metadata', 'Reflectance_Data']>\n",
      "<KeysViewHDF5 ['Ancillary_Imagery', 'Coordinate_System', 'Flight_Trajectory', 'Logs', 'Spectral_Data', 'to-sensor_azimuth_angle', 'to-sensor_zenith_angle']>\n",
      "<KeysViewHDF5 ['Coordinate_System_String', 'EPSG Code', 'Map_Info', 'Proj4']>\n"
     ]
    }
   ],
   "source": [
    "print(serc_refl.keys())\n",
    "print(serc_refl['Metadata'].keys())\n",
    "print(serc_refl['Metadata']['Coordinate_System'].keys())"
   ]
  },
  {
   "cell_type": "code",
   "execution_count": null,
   "metadata": {
    "colab": {
     "base_uri": "https://localhost:8080/"
    },
    "executionInfo": {
     "elapsed": 173,
     "status": "ok",
     "timestamp": 1697650718948,
     "user": {
      "displayName": "Samuel Foucher",
      "userId": "05133786799740420607"
     },
     "user_tz": 240
    },
    "id": "SrQ5PPn52LyC",
    "outputId": "ba32b8e5-09d7-49d7-c7ef-dceff6d6e342"
   },
   "outputs": [
    {
     "name": "stdout",
     "output_type": "stream",
     "text": [
      "SERC Map Info: <h5py._hl.dataset.AsStrWrapper object at 0x7ff7f3a56020>\n"
     ]
    }
   ],
   "source": [
    "serc_mapInfo = serc_refl['Metadata']['Coordinate_System']['Coordinate_System_String']\n",
    "print('SERC Map Info:',serc_mapInfo.asstr())"
   ]
  },
  {
   "cell_type": "code",
   "execution_count": null,
   "metadata": {
    "colab": {
     "base_uri": "https://localhost:8080/"
    },
    "executionInfo": {
     "elapsed": 212,
     "status": "ok",
     "timestamp": 1697650289757,
     "user": {
      "displayName": "Samuel Foucher",
      "userId": "05133786799740420607"
     },
     "user_tz": 240
    },
    "id": "Xr5FWyFS1keb",
    "outputId": "94277edd-0bd6-4b37-8974-62cc7812ad22"
   },
   "outputs": [
    {
     "name": "stdout",
     "output_type": "stream",
     "text": [
      "<KeysViewHDF5 ['Coordinate_System_String', 'EPSG Code', 'Map_Info', 'Proj4']>\n"
     ]
    }
   ],
   "source": [
    "print(serc_refl['Metadata']['Coordinate_System'].keys())"
   ]
  },
  {
   "cell_type": "markdown",
   "metadata": {
    "id": "SBzyVWZ92LyC"
   },
   "source": [
    "**Understanding the output:**\n",
    "\n",
    "Here we can spatial information about the reflectance data. Below is a break down of what each of these values means:\n",
    "\n",
    "- `UTM` - coordinate system (Universal Transverse Mercator)\n",
    "- `1.000, 1.000` -\n",
    "- `368000.000, 4307000.0` - UTM coordinates (meters) of the map origin, which refers to the upper-left corner of the image  (xMin, yMax).\n",
    "- `1.0000000, 1.0000000` - pixel resolution (meters)\n",
    "- `18` - UTM zone\n",
    "- `N` - UTM hemisphere (North for all NEON sites)\n",
    "- `WGS-84` - reference ellipoid\n",
    "\n",
    "The letter `b` that appears before UTM signifies that the variable-length string data is stored in **b**inary format when it is written to the hdf5 file. Don't worry about it for now, as we will convert the numerical data we need into floating point numbers. For more information on hdf5 strings read the <a href=\"http://docs.h5py.org/en/latest/strings.html\" target=\"_blank\">h5py documentation</a>.\n",
    "\n",
    "Let's extract relevant information from the `Map_Info` metadata to define the spatial extent of this dataset. To do this, we can use the `split` method to break up this string into separate values:"
   ]
  },
  {
   "cell_type": "code",
   "execution_count": null,
   "metadata": {
    "colab": {
     "base_uri": "https://localhost:8080/",
     "height": 246
    },
    "executionInfo": {
     "elapsed": 149,
     "status": "error",
     "timestamp": 1697650100963,
     "user": {
      "displayName": "Samuel Foucher",
      "userId": "05133786799740420607"
     },
     "user_tz": 240
    },
    "id": "iBd9g1ri2LyC",
    "outputId": "5af0fe76-314e-4f86-be60-4fc46e2003b9"
   },
   "outputs": [
    {
     "ename": "AttributeError",
     "evalue": "ignored",
     "output_type": "error",
     "traceback": [
      "\u001b[0;31m---------------------------------------------------------------------------\u001b[0m",
      "\u001b[0;31mAttributeError\u001b[0m                            Traceback (most recent call last)",
      "\u001b[0;32m<ipython-input-20-af4e0540018a>\u001b[0m in \u001b[0;36m<cell line: 2>\u001b[0;34m()\u001b[0m\n\u001b[1;32m      1\u001b[0m \u001b[0;31m#First convert mapInfo to a string\u001b[0m\u001b[0;34m\u001b[0m\u001b[0;34m\u001b[0m\u001b[0m\n\u001b[0;32m----> 2\u001b[0;31m \u001b[0mmapInfo_string\u001b[0m \u001b[0;34m=\u001b[0m \u001b[0mstr\u001b[0m\u001b[0;34m(\u001b[0m\u001b[0mserc_mapInfo\u001b[0m\u001b[0;34m.\u001b[0m\u001b[0mvalue\u001b[0m\u001b[0;34m)\u001b[0m \u001b[0;31m#convert to string\u001b[0m\u001b[0;34m\u001b[0m\u001b[0;34m\u001b[0m\u001b[0m\n\u001b[0m\u001b[1;32m      3\u001b[0m \u001b[0;34m\u001b[0m\u001b[0m\n\u001b[1;32m      4\u001b[0m \u001b[0;31m#see what the split method does\u001b[0m\u001b[0;34m\u001b[0m\u001b[0;34m\u001b[0m\u001b[0m\n\u001b[1;32m      5\u001b[0m \u001b[0mget_ipython\u001b[0m\u001b[0;34m(\u001b[0m\u001b[0;34m)\u001b[0m\u001b[0;34m.\u001b[0m\u001b[0mrun_line_magic\u001b[0m\u001b[0;34m(\u001b[0m\u001b[0;34m'pinfo'\u001b[0m\u001b[0;34m,\u001b[0m \u001b[0;34m'mapInfo_string.split'\u001b[0m\u001b[0;34m)\u001b[0m\u001b[0;34m\u001b[0m\u001b[0;34m\u001b[0m\u001b[0m\n",
      "\u001b[0;31mAttributeError\u001b[0m: 'Dataset' object has no attribute 'value'"
     ]
    }
   ],
   "source": [
    "#First convert mapInfo to a string\n",
    "mapInfo_string = str(serc_mapInfo.value) #convert to string\n",
    "\n",
    "#see what the split method does\n",
    "mapInfo_string.split?"
   ]
  },
  {
   "cell_type": "code",
   "execution_count": null,
   "metadata": {
    "colab": {
     "base_uri": "https://localhost:8080/"
    },
    "executionInfo": {
     "elapsed": 160,
     "status": "ok",
     "timestamp": 1665598241307,
     "user": {
      "displayName": "Samuel Foucher",
      "userId": "05133786799740420607"
     },
     "user_tz": 240
    },
    "id": "VHoDXbFd2LyC",
    "outputId": "bfd8fa10-635d-46b5-9db3-a55771f06b94"
   },
   "outputs": [
    {
     "name": "stdout",
     "output_type": "stream",
     "text": [
      "[\"b'UTM\", '  1.000', '  1.000', '       368000.00', '       4307000.0', '       1.0000000', '       1.0000000', '  18', '  North', '  WGS-84', '  units=Meters', \" 0'\"]\n"
     ]
    }
   ],
   "source": [
    "#split the strings using the separator \",\"\n",
    "mapInfo_split = mapInfo_string.split(\",\")\n",
    "print(mapInfo_split)"
   ]
  },
  {
   "cell_type": "markdown",
   "metadata": {
    "id": "b31SZYIp2LyC"
   },
   "source": [
    "Now we can extract the spatial information we need from the map info values, convert them to the appropriate data type (float) and store it in a way that will enable us to access and apply it later when we want to plot the data:"
   ]
  },
  {
   "cell_type": "code",
   "execution_count": null,
   "metadata": {
    "colab": {
     "base_uri": "https://localhost:8080/"
    },
    "executionInfo": {
     "elapsed": 157,
     "status": "ok",
     "timestamp": 1665598245262,
     "user": {
      "displayName": "Samuel Foucher",
      "userId": "05133786799740420607"
     },
     "user_tz": 240
    },
    "id": "kKzfoiue2LyC",
    "outputId": "393d3847-4574-4fbc-cfb8-659b5f1d335e"
   },
   "outputs": [
    {
     "name": "stdout",
     "output_type": "stream",
     "text": [
      "Resolution: (1.0, 1.0)\n"
     ]
    }
   ],
   "source": [
    "#Extract the resolution & convert to floating decimal number\n",
    "res = float(mapInfo_split[5]),float(mapInfo_split[6])\n",
    "print('Resolution:',res)"
   ]
  },
  {
   "cell_type": "code",
   "execution_count": null,
   "metadata": {
    "id": "u57Bvm_k2LyC"
   },
   "outputs": [],
   "source": [
    "#Extract the upper left-hand corner coordinates from mapInfo\n",
    "xMin = float(mapInfo_split[3])\n",
    "yMax = float(mapInfo_split[4])\n",
    "\n",
    "#Calculate the xMax and yMin values from the dimensions\n",
    "xMax = xMin + (refl_shape[1]*res[0]) #xMax = left edge + (# of columns * x pixel resolution)\n",
    "yMin = yMax - (refl_shape[0]*res[1]) #yMin = top edge - (# of rows * y pixel resolution)"
   ]
  },
  {
   "cell_type": "markdown",
   "metadata": {
    "id": "00IiHHy22LyC"
   },
   "source": [
    "Now we can define the spatial exten as the tuple `(xMin, xMax, yMin, yMax)`. This is the format required for applying the spatial extent when plotting with `matplotlib.pyplot`."
   ]
  },
  {
   "cell_type": "code",
   "execution_count": null,
   "metadata": {
    "colab": {
     "base_uri": "https://localhost:8080/"
    },
    "executionInfo": {
     "elapsed": 169,
     "status": "ok",
     "timestamp": 1665598250307,
     "user": {
      "displayName": "Samuel Foucher",
      "userId": "05133786799740420607"
     },
     "user_tz": 240
    },
    "id": "kEVS1HHV2LyC",
    "outputId": "8c6e1173-a7ce-4dd7-b383-b0992bece8ab"
   },
   "outputs": [
    {
     "name": "stdout",
     "output_type": "stream",
     "text": [
      "serc_ext: (368000.0, 369000.0, 4306000.0, 4307000.0)\n",
      "serc_ext type: <class 'tuple'>\n"
     ]
    }
   ],
   "source": [
    "#Define extent as a tuple:\n",
    "serc_ext = (xMin, xMax, yMin, yMax)\n",
    "print('serc_ext:',serc_ext)\n",
    "print('serc_ext type:',type(serc_ext))"
   ]
  },
  {
   "cell_type": "markdown",
   "metadata": {
    "id": "-wbATYF52LyC"
   },
   "source": [
    "## Extract a Single Band from Array"
   ]
  },
  {
   "cell_type": "markdown",
   "metadata": {
    "id": "eVsk_Bt82LyD"
   },
   "source": [
    "While it is useful to have all the data contained in a hyperspectral cube, it is difficult to visualize all this information at once. We can extract a single band (representing a ~5nm band, approximating a single wavelength) from the cube by using splicing as follows. Note that we have to cast the reflectance data into the type `float`. Recall that since Python indexing starts at 0 instead of 1, in order to extract band 56, we need to use the index 55."
   ]
  },
  {
   "cell_type": "code",
   "execution_count": null,
   "metadata": {
    "colab": {
     "base_uri": "https://localhost:8080/"
    },
    "executionInfo": {
     "elapsed": 474,
     "status": "ok",
     "timestamp": 1697650536336,
     "user": {
      "displayName": "Samuel Foucher",
      "userId": "05133786799740420607"
     },
     "user_tz": 240
    },
    "id": "9wnjrtDs2LyD",
    "outputId": "6033da0d-4081-4ffe-da03-e2c06f646425"
   },
   "outputs": [
    {
     "name": "stdout",
     "output_type": "stream",
     "text": [
      "b56 type: <class 'numpy.ndarray'>\n",
      "b56 shape: (1000, 1000)\n",
      "Band 56 Reflectance:\n",
      " [[ 254.  241.  250. ...  334.  313.  330.]\n",
      " [ 253.  260.  624. ...  281.  311.  291.]\n",
      " [ 262.  413. 1050. ...  295.  349.  280.]\n",
      " ...\n",
      " [ 281.  231.  292. ... 1168.  978.  916.]\n",
      " [ 240.  222.  189. ... 1654. 1728. 1694.]\n",
      " [ 319.  329.  317. ... 1176. 1466. 1582.]]\n"
     ]
    }
   ],
   "source": [
    "b56 = serc_reflArray[:,:,55].astype(float)\n",
    "print('b56 type:',type(b56))\n",
    "print('b56 shape:',b56.shape)\n",
    "print('Band 56 Reflectance:\\n',b56)"
   ]
  },
  {
   "cell_type": "markdown",
   "metadata": {
    "id": "bRXnuZdP2LyD"
   },
   "source": [
    "Here we can see that we extracted a 2-D array (1000 x 1000) of the scaled reflectance data corresponding to the wavelength band 56. Before we can use the data, we need to clean it up a little. We'll show how to do this below."
   ]
  },
  {
   "cell_type": "markdown",
   "metadata": {
    "id": "6StgqmzJ2LyD"
   },
   "source": [
    "##  Scale factor and No Data Value\n",
    "\n",
    "This array represents the scaled reflectance for band 56. Recall from exploring the HDF5 data in HDFViewer that NEON AOP reflectance data uses a `Data_Ignore_Value` of `-9999` to represent missing data (often called `NaN`), and a reflectance `Scale_Factor` of `10000.0` in order to save disk space (can use lower precision this way).\n",
    "\n",
    " <figure>\n",
    "\t<a href=\"https://raw.githubusercontent.com/NEONScience/NEON-Data-Skills/main/graphics/HDF5-general/hdfview_SERCrefl.png\">\n",
    "\t<img src=\"https://raw.githubusercontent.com/NEONScience/NEON-Data-Skills/main/graphics/HDF5-general/hdfview_SERCrefl.png\"></a>\n",
    "\t<figcaption> Screenshot of the NEON HDF5 file format.\n",
    "\tSource: National Ecological Observatory Network\n",
    "\t</figcaption>\n",
    "</figure>\n",
    "\n",
    "We can extract and apply the `Data_Ignore_Value` and `Scale_Factor` as follows:"
   ]
  },
  {
   "cell_type": "code",
   "execution_count": null,
   "metadata": {
    "colab": {
     "base_uri": "https://localhost:8080/"
    },
    "executionInfo": {
     "elapsed": 3,
     "status": "ok",
     "timestamp": 1697650542224,
     "user": {
      "displayName": "Samuel Foucher",
      "userId": "05133786799740420607"
     },
     "user_tz": 240
    },
    "id": "bDldXbZl2LyD",
    "outputId": "1b8fcca9-6c13-4f32-8de0-13557be0cb96"
   },
   "outputs": [
    {
     "name": "stdout",
     "output_type": "stream",
     "text": [
      "Scale Factor: 10000.0\n",
      "Data Ignore Value: -9999.0\n",
      "Cleaned Band 56 Reflectance:\n",
      " [[0.0254 0.0241 0.025  ... 0.0334 0.0313 0.033 ]\n",
      " [0.0253 0.026  0.0624 ... 0.0281 0.0311 0.0291]\n",
      " [0.0262 0.0413 0.105  ... 0.0295 0.0349 0.028 ]\n",
      " ...\n",
      " [0.0281 0.0231 0.0292 ... 0.1168 0.0978 0.0916]\n",
      " [0.024  0.0222 0.0189 ... 0.1654 0.1728 0.1694]\n",
      " [0.0319 0.0329 0.0317 ... 0.1176 0.1466 0.1582]]\n"
     ]
    }
   ],
   "source": [
    "#View and apply scale factor and data ignore value\n",
    "scaleFactor = serc_reflArray.attrs['Scale_Factor']\n",
    "noDataValue = serc_reflArray.attrs['Data_Ignore_Value']\n",
    "print('Scale Factor:',scaleFactor)\n",
    "print('Data Ignore Value:',noDataValue)\n",
    "\n",
    "b56[b56==int(noDataValue)]=np.nan\n",
    "b56 = b56/scaleFactor\n",
    "print('Cleaned Band 56 Reflectance:\\n',b56)"
   ]
  },
  {
   "cell_type": "markdown",
   "metadata": {
    "id": "rVXy38MV2LyD"
   },
   "source": [
    "## Plot single reflectance band\n",
    "\n",
    "Now we can plot this band using the Python package ```matplotlib.pyplot```, which we imported at the beginning of the lesson as ```plt```. Note that the default colormap is jet unless otherwise specified. You can explore using different colormaps on your own; see the <a href=\"https://matplotlib.org/examples/color/colormaps_reference.html\" target=\"_blank\">mapplotlib colormaps</a> for  for other options."
   ]
  },
  {
   "cell_type": "code",
   "execution_count": null,
   "metadata": {
    "colab": {
     "base_uri": "https://localhost:8080/",
     "height": 211
    },
    "executionInfo": {
     "elapsed": 6,
     "status": "error",
     "timestamp": 1697650556295,
     "user": {
      "displayName": "Samuel Foucher",
      "userId": "05133786799740420607"
     },
     "user_tz": 240
    },
    "id": "Kyf5-9212LyD",
    "outputId": "3e3cd20c-ad0f-4fbc-a2d0-263def3fcafb"
   },
   "outputs": [
    {
     "ename": "NameError",
     "evalue": "ignored",
     "output_type": "error",
     "traceback": [
      "\u001b[0;31m---------------------------------------------------------------------------\u001b[0m",
      "\u001b[0;31mNameError\u001b[0m                                 Traceback (most recent call last)",
      "\u001b[0;32m<ipython-input-43-1dc150f91a8d>\u001b[0m in \u001b[0;36m<cell line: 3>\u001b[0;34m()\u001b[0m\n\u001b[1;32m      1\u001b[0m \u001b[0;32mimport\u001b[0m \u001b[0mmatplotlib\u001b[0m\u001b[0;34m.\u001b[0m\u001b[0mpyplot\u001b[0m \u001b[0;32mas\u001b[0m \u001b[0mplt\u001b[0m\u001b[0;34m\u001b[0m\u001b[0;34m\u001b[0m\u001b[0m\n\u001b[1;32m      2\u001b[0m \u001b[0;34m\u001b[0m\u001b[0m\n\u001b[0;32m----> 3\u001b[0;31m \u001b[0mserc_plot\u001b[0m \u001b[0;34m=\u001b[0m \u001b[0mplt\u001b[0m\u001b[0;34m.\u001b[0m\u001b[0mimshow\u001b[0m\u001b[0;34m(\u001b[0m\u001b[0mb56\u001b[0m\u001b[0;34m,\u001b[0m\u001b[0mextent\u001b[0m\u001b[0;34m=\u001b[0m\u001b[0mserc_ext\u001b[0m\u001b[0;34m,\u001b[0m\u001b[0mcmap\u001b[0m\u001b[0;34m=\u001b[0m\u001b[0;34m'jet'\u001b[0m\u001b[0;34m,\u001b[0m\u001b[0mvmax\u001b[0m\u001b[0;34m=\u001b[0m\u001b[0;36m0.5\u001b[0m\u001b[0;34m)\u001b[0m\u001b[0;34m\u001b[0m\u001b[0;34m\u001b[0m\u001b[0m\n\u001b[0m",
      "\u001b[0;31mNameError\u001b[0m: name 'serc_ext' is not defined"
     ]
    }
   ],
   "source": [
    "import matplotlib.pyplot as plt\n",
    "\n",
    "serc_plot = plt.imshow(b56,extent=serc_ext,cmap='jet',vmax=0.5)"
   ]
  },
  {
   "cell_type": "markdown",
   "metadata": {
    "id": "a3dL6BUb2LyD"
   },
   "source": [
    "We can see that this image looks pretty washed out. To see why this is, it helps to look at the range and distribution of reflectance values that we are plotting. We can do this by making a histogram."
   ]
  },
  {
   "cell_type": "markdown",
   "metadata": {
    "id": "xqYx-aUi2LyD"
   },
   "source": [
    "## Plot histogram\n",
    "\n",
    "We can plot a histogram using the `matplotlib.pyplot.hist` function. Note that this function won't work if there are any NaN values, so we can ensure we are only plotting the real data values using the call below. You can also specify the # of bins you want to divide the data into."
   ]
  },
  {
   "cell_type": "code",
   "execution_count": null,
   "metadata": {
    "colab": {
     "base_uri": "https://localhost:8080/",
     "height": 265
    },
    "executionInfo": {
     "elapsed": 310,
     "status": "ok",
     "timestamp": 1665599129089,
     "user": {
      "displayName": "Samuel Foucher",
      "userId": "05133786799740420607"
     },
     "user_tz": 240
    },
    "id": "BBr756-C2LyE",
    "outputId": "ce7041cf-c989-4835-c7ac-b999d69c3704"
   },
   "outputs": [
    {
     "data": {
      "image/png": "[encoded data removed]",
      "text/plain": [
       "<Figure size 432x288 with 1 Axes>"
      ]
     },
     "metadata": {
      "needs_background": "light"
     },
     "output_type": "display_data"
    }
   ],
   "source": [
    "plt.hist(b56[~np.isnan(b56)],50); #50 signifies the # of bins"
   ]
  },
  {
   "cell_type": "markdown",
   "metadata": {
    "id": "1qDWpXzz2LyE"
   },
   "source": [
    "We can see that most of the reflectance values are < 0.4. In order to show more contrast in the image, we can adjust the colorlimit (`clim`) to 0-0.4:"
   ]
  },
  {
   "cell_type": "code",
   "execution_count": null,
   "metadata": {
    "colab": {
     "base_uri": "https://localhost:8080/",
     "height": 281
    },
    "executionInfo": {
     "elapsed": 532,
     "status": "ok",
     "timestamp": 1665599168573,
     "user": {
      "displayName": "Samuel Foucher",
      "userId": "05133786799740420607"
     },
     "user_tz": 240
    },
    "id": "rw_sglb92LyE",
    "outputId": "b8551a94-2390-4dfe-c9ac-e478157fd11f"
   },
   "outputs": [
    {
     "data": {
      "image/png": "[encoded data removed]",
      "text/plain": [
       "<Figure size 432x288 with 1 Axes>"
      ]
     },
     "metadata": {
      "needs_background": "light"
     },
     "output_type": "display_data"
    }
   ],
   "source": [
    "serc_plot = plt.imshow(b56,extent=serc_ext,cmap='Greys',clim=(0,0.4))\n",
    "plt.title('SERC Band 56 Reflectance');"
   ]
  },
  {
   "cell_type": "markdown",
   "metadata": {
    "id": "9AEQuFVw2LyE"
   },
   "source": [
    "Here you can see that adjusting the colorlimit displays features (eg. roads, buildings) much better than when we set the colormap limits to the entire range of reflectance values."
   ]
  },
  {
   "cell_type": "markdown",
   "metadata": {
    "id": "zRGpVemd2LyE"
   },
   "source": [
    "## Extension: Basic Image Processing -- Contrast Stretch & Histogram Equalization\n",
    "\n",
    "We can also try out some basic image processing to better visualize the\n",
    "reflectance data using the `ski-image` package.\n",
    "\n",
    "Histogram equalization is a method in image processing of contrast adjustment\n",
    "using the image's histogram. Stretching the histogram can improve the contrast\n",
    "of a displayed image, as we will show how to do below.\n",
    "\n",
    " <figure>\n",
    "\t<a href=\"https://raw.githubusercontent.com/NEONScience/NEON-Data-Skills/main/graphics/hyperspectral-general/histogram_equalization.png\">\n",
    "\t<img src=\"https://raw.githubusercontent.com/NEONScience/NEON-Data-Skills/main/graphics/hyperspectral-general/histogram_equalization.png\"></a>\n",
    "\t<figcaption> Histogram equalization is a method in image processing of contrast adjustment\n",
    "using the image's histogram. Stretching the histogram can improve the contrast\n",
    "of a displayed image, as we will show how to do below.\n",
    "\tSource: <a href=\"https://en.wikipedia.org/wiki/Talk%3AHistogram_equalization#/media/File:Histogrammspreizung.png\"> Wikipedia - Public Domain </a>\n",
    "\t</figcaption>\n",
    "</figure>\n",
    "\n",
    "\n",
    "*The following tutorial section is adapted from skikit-image's tutorial\n",
    "<a href=\"http://scikit-image.org/docs/stable/auto_examples/color_exposure/plot_equalize.html#sphx-glr-auto-examples-color-exposure-plot-equalize-py\" target=\"_blank\"> Histogram Equalization</a>.*\n",
    "\n",
    "Below we demonstrate a widget to interactively display different linear contrast stretches:"
   ]
  },
  {
   "cell_type": "markdown",
   "metadata": {
    "id": "LzaBn4sw2LyE"
   },
   "source": [
    "### Explore the contrast stretch feature interactively using IPython widgets:"
   ]
  },
  {
   "cell_type": "code",
   "execution_count": null,
   "metadata": {
    "colab": {
     "base_uri": "https://localhost:8080/",
     "height": 408,
     "referenced_widgets": [
      "a8d80f343d1847ebba30f61c0eb83035",
      "7deceb2b44d54096802f215c969fab79",
      "70abcb4f52ff4b4e814d5f6ee436b340",
      "8e1d0ae809c947b7a3973a6d1be8451a",
      "702fa2f39f6e44c69a0280552f06e781",
      "0ec2815e805a452abfb6319a6b176d57",
      "6922211229934c9882555b5b1c64377d"
     ]
    },
    "executionInfo": {
     "elapsed": 874,
     "status": "ok",
     "timestamp": 1665599267789,
     "user": {
      "displayName": "Samuel Foucher",
      "userId": "05133786799740420607"
     },
     "user_tz": 240
    },
    "id": "p04yNEEL2LyE",
    "outputId": "698aea9c-3fc5-4b1e-a13c-fc728a10de78"
   },
   "outputs": [
    {
     "data": {
      "application/vnd.jupyter.widget-view+json": {
       "model_id": "a8d80f343d1847ebba30f61c0eb83035",
       "version_major": 2,
       "version_minor": 0
      },
      "text/plain": [
       "interactive(children=(IntSlider(value=25, description='percent', max=50), Output()), _dom_classes=('widget-int…"
      ]
     },
     "metadata": {},
     "output_type": "display_data"
    },
    {
     "data": {
      "text/plain": [
       "<function __main__.linearStretch(percent)>"
      ]
     },
     "execution_count": 34,
     "metadata": {},
     "output_type": "execute_result"
    }
   ],
   "source": [
    "from skimage import exposure\n",
    "from IPython.html.widgets import *\n",
    "\n",
    "def linearStretch(percent):\n",
    "    pLow, pHigh = np.percentile(b56[~np.isnan(b56)], (percent,100-percent))\n",
    "    print(pLow)\n",
    "    print(pHigh)\n",
    "    img_rescale = exposure.rescale_intensity(b56, in_range=(pLow,pHigh))\n",
    "    plt.imshow(img_rescale,extent=serc_ext,cmap='gist_earth')\n",
    "    #cbar = plt.colorbar(); cbar.set_label('Reflectance')\n",
    "    plt.title('SERC Band 56 \\n Linear ' + str(percent) + '% Contrast Stretch');\n",
    "    ax = plt.gca()\n",
    "    ax.ticklabel_format(useOffset=False, style='plain') #do not use scientific notation #\n",
    "    rotatexlabels = plt.setp(ax.get_xticklabels(),rotation=90) #rotate x tick labels 90 degree\n",
    "\n",
    "interact(linearStretch,percent=(0,50,1))"
   ]
  }
 ],
 "metadata": {
  "colab": {
   "provenance": [
    {
     "file_id": "10ZbJyBxuDpW3FjtQwqFczFlML5ArkkFm",
     "timestamp": 1701046682383
    },
    {
     "file_id": "https://github.com/NEONScience/NEON-Data-Skills/blob/main/tutorials/Python/Hyperspectral/intro-hyperspectral/Intro_NEON_AOP_HDF5_Reflectance_Tiles_py/Intro_NEON_AOP_HDF5_Reflectance_Tiles_py.ipynb",
     "timestamp": 1665589125008
    }
   ]
  },
  "kernelspec": {
   "display_name": "py37",
   "language": "python",
   "name": "py37"
  },
  "language_info": {
   "codemirror_mode": {
    "name": "ipython",
    "version": 3
   },
   "file_extension": ".py",
   "mimetype": "text/x-python",
   "name": "python",
   "nbconvert_exporter": "python",
   "pygments_lexer": "ipython3",
   "version": "3.7.7"
  },
  "widgets": {
   "application/vnd.jupyter.widget-state+json": {
    "0ec2815e805a452abfb6319a6b176d57": {
     "model_module": "@jupyter-widgets/controls",
     "model_module_version": "1.5.0",
     "model_name": "SliderStyleModel",
     "state": {
      "_model_module": "@jupyter-widgets/controls",
      "_model_module_version": "1.5.0",
      "_model_name": "SliderStyleModel",
      "_view_count": null,
      "_view_module": "@jupyter-widgets/base",
      "_view_module_version": "1.2.0",
      "_view_name": "StyleView",
      "description_width": "",
      "handle_color": null
     }
    },
    "6922211229934c9882555b5b1c64377d": {
     "model_module": "@jupyter-widgets/base",
     "model_module_version": "1.2.0",
     "model_name": "LayoutModel",
     "state": {
      "_model_module": "@jupyter-widgets/base",
      "_model_module_version": "1.2.0",
      "_model_name": "LayoutModel",
      "_view_count": null,
      "_view_module": "@jupyter-widgets/base",
      "_view_module_version": "1.2.0",
      "_view_name": "LayoutView",
      "align_content": null,
      "align_items": null,
      "align_self": null,
      "border": null,
      "bottom": null,
      "display": null,
      "flex": null,
      "flex_flow": null,
      "grid_area": null,
      "grid_auto_columns": null,
      "grid_auto_flow": null,
      "grid_auto_rows": null,
      "grid_column": null,
      "grid_gap": null,
      "grid_row": null,
      "grid_template_areas": null,
      "grid_template_columns": null,
      "grid_template_rows": null,
      "height": null,
      "justify_content": null,
      "justify_items": null,
      "left": null,
      "margin": null,
      "max_height": null,
      "max_width": null,
      "min_height": null,
      "min_width": null,
      "object_fit": null,
      "object_position": null,
      "order": null,
      "overflow": null,
      "overflow_x": null,
      "overflow_y": null,
      "padding": null,
      "right": null,
      "top": null,
      "visibility": null,
      "width": null
     }
    },
    "702fa2f39f6e44c69a0280552f06e781": {
     "model_module": "@jupyter-widgets/base",
     "model_module_version": "1.2.0",
     "model_name": "LayoutModel",
     "state": {
      "_model_module": "@jupyter-widgets/base",
      "_model_module_version": "1.2.0",
      "_model_name": "LayoutModel",
      "_view_count": null,
      "_view_module": "@jupyter-widgets/base",
      "_view_module_version": "1.2.0",
      "_view_name": "LayoutView",
      "align_content": null,
      "align_items": null,
      "align_self": null,
      "border": null,
      "bottom": null,
      "display": null,
      "flex": null,
      "flex_flow": null,
      "grid_area": null,
      "grid_auto_columns": null,
      "grid_auto_flow": null,
      "grid_auto_rows": null,
      "grid_column": null,
      "grid_gap": null,
      "grid_row": null,
      "grid_template_areas": null,
      "grid_template_columns": null,
      "grid_template_rows": null,
      "height": null,
      "justify_content": null,
      "justify_items": null,
      "left": null,
      "margin": null,
      "max_height": null,
      "max_width": null,
      "min_height": null,
      "min_width": null,
      "object_fit": null,
      "object_position": null,
      "order": null,
      "overflow": null,
      "overflow_x": null,
      "overflow_y": null,
      "padding": null,
      "right": null,
      "top": null,
      "visibility": null,
      "width": null
     }
    },
    "70abcb4f52ff4b4e814d5f6ee436b340": {
     "model_module": "@jupyter-widgets/output",
     "model_module_version": "1.0.0",
     "model_name": "OutputModel",
     "state": {
      "_dom_classes": [],
      "_model_module": "@jupyter-widgets/output",
      "_model_module_version": "1.0.0",
      "_model_name": "OutputModel",
      "_view_count": null,
      "_view_module": "@jupyter-widgets/output",
      "_view_module_version": "1.0.0",
      "_view_name": "OutputView",
      "layout": "IPY_MODEL_6922211229934c9882555b5b1c64377d",
      "msg_id": "",
      "outputs": [
       {
        "name": "stdout",
        "output_type": "stream",
        "text": [
         "0.0189\n",
         "0.0477\n"
        ]
       },
       {
        "data": {
         "image/png": "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\n",
         "text/plain": "<Figure size 432x288 with 1 Axes>"
        },
        "metadata": {
         "needs_background": "light"
        },
        "output_type": "display_data"
       }
      ]
     }
    },
    "7deceb2b44d54096802f215c969fab79": {
     "model_module": "@jupyter-widgets/controls",
     "model_module_version": "1.5.0",
     "model_name": "IntSliderModel",
     "state": {
      "_dom_classes": [],
      "_model_module": "@jupyter-widgets/controls",
      "_model_module_version": "1.5.0",
      "_model_name": "IntSliderModel",
      "_view_count": null,
      "_view_module": "@jupyter-widgets/controls",
      "_view_module_version": "1.5.0",
      "_view_name": "IntSliderView",
      "continuous_update": true,
      "description": "percent",
      "description_tooltip": null,
      "disabled": false,
      "layout": "IPY_MODEL_702fa2f39f6e44c69a0280552f06e781",
      "max": 50,
      "min": 0,
      "orientation": "horizontal",
      "readout": true,
      "readout_format": "d",
      "step": 1,
      "style": "IPY_MODEL_0ec2815e805a452abfb6319a6b176d57",
      "value": 25
     }
    },
    "8e1d0ae809c947b7a3973a6d1be8451a": {
     "model_module": "@jupyter-widgets/base",
     "model_module_version": "1.2.0",
     "model_name": "LayoutModel",
     "state": {
      "_model_module": "@jupyter-widgets/base",
      "_model_module_version": "1.2.0",
      "_model_name": "LayoutModel",
      "_view_count": null,
      "_view_module": "@jupyter-widgets/base",
      "_view_module_version": "1.2.0",
      "_view_name": "LayoutView",
      "align_content": null,
      "align_items": null,
      "align_self": null,
      "border": null,
      "bottom": null,
      "display": null,
      "flex": null,
      "flex_flow": null,
      "grid_area": null,
      "grid_auto_columns": null,
      "grid_auto_flow": null,
      "grid_auto_rows": null,
      "grid_column": null,
      "grid_gap": null,
      "grid_row": null,
      "grid_template_areas": null,
      "grid_template_columns": null,
      "grid_template_rows": null,
      "height": null,
      "justify_content": null,
      "justify_items": null,
      "left": null,
      "margin": null,
      "max_height": null,
      "max_width": null,
      "min_height": null,
      "min_width": null,
      "object_fit": null,
      "object_position": null,
      "order": null,
      "overflow": null,
      "overflow_x": null,
      "overflow_y": null,
      "padding": null,
      "right": null,
      "top": null,
      "visibility": null,
      "width": null
     }
    },
    "a8d80f343d1847ebba30f61c0eb83035": {
     "model_module": "@jupyter-widgets/controls",
     "model_module_version": "1.5.0",
     "model_name": "VBoxModel",
     "state": {
      "_dom_classes": [
       "widget-interact"
      ],
      "_model_module": "@jupyter-widgets/controls",
      "_model_module_version": "1.5.0",
      "_model_name": "VBoxModel",
      "_view_count": null,
      "_view_module": "@jupyter-widgets/controls",
      "_view_module_version": "1.5.0",
      "_view_name": "VBoxView",
      "box_style": "",
      "children": [
       "IPY_MODEL_7deceb2b44d54096802f215c969fab79",
       "IPY_MODEL_70abcb4f52ff4b4e814d5f6ee436b340"
      ],
      "layout": "IPY_MODEL_8e1d0ae809c947b7a3973a6d1be8451a"
     }
    }
   }
  }
 },
 "nbformat": 4,
 "nbformat_minor": 0
}
